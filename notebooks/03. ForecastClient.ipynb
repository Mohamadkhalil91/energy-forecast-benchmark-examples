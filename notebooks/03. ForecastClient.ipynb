{
 "cells": [
  {
   "cell_type": "code",
   "execution_count": 1,
   "metadata": {
    "pycharm": {
     "is_executing": true
    },
    "ExecuteTime": {
     "end_time": "2023-11-23T09:25:29.682697Z",
     "start_time": "2023-11-23T09:25:29.492812Z"
    }
   },
   "outputs": [],
   "source": [
    "import os\n",
    "os.chdir('..')"
   ]
  },
  {
   "cell_type": "code",
   "execution_count": 2,
   "metadata": {
    "ExecuteTime": {
     "end_time": "2023-11-23T09:25:33.360857Z",
     "start_time": "2023-11-23T09:25:29.529816Z"
    }
   },
   "outputs": [],
   "source": [
    "import pandas as pd"
   ]
  },
  {
   "cell_type": "markdown",
   "metadata": {},
   "source": [
    "# Load Data"
   ]
  },
  {
   "cell_type": "code",
   "execution_count": 3,
   "metadata": {
    "ExecuteTime": {
     "end_time": "2023-11-23T09:25:37.242974Z",
     "start_time": "2023-11-23T09:25:33.368636Z"
    }
   },
   "outputs": [],
   "source": [
    "from enfobench.dataset import DemandDataset\n",
    "\n",
    "ds = DemandDataset(\"data\")"
   ]
  },
  {
   "cell_type": "code",
   "execution_count": 4,
   "outputs": [],
   "source": [
    "unique_ids = ds.metadata_subset.list_unique_ids()"
   ],
   "metadata": {
    "collapsed": false,
    "ExecuteTime": {
     "end_time": "2023-11-23T09:25:37.374299Z",
     "start_time": "2023-11-23T09:25:37.252749Z"
    }
   }
  },
  {
   "cell_type": "code",
   "execution_count": 5,
   "metadata": {
    "ExecuteTime": {
     "end_time": "2023-11-23T09:25:37.529817Z",
     "start_time": "2023-11-23T09:25:37.380634Z"
    }
   },
   "outputs": [
    {
     "data": {
      "text/plain": "100"
     },
     "execution_count": 5,
     "metadata": {},
     "output_type": "execute_result"
    }
   ],
   "source": [
    "len(unique_ids)"
   ]
  },
  {
   "cell_type": "code",
   "execution_count": 6,
   "metadata": {
    "ExecuteTime": {
     "end_time": "2023-11-23T09:25:37.622171Z",
     "start_time": "2023-11-23T09:25:37.410294Z"
    }
   },
   "outputs": [
    {
     "data": {
      "text/plain": "'70aec446c47486f3'"
     },
     "execution_count": 6,
     "metadata": {},
     "output_type": "execute_result"
    }
   ],
   "source": [
    "unique_id = unique_ids[0]\n",
    "unique_id"
   ]
  },
  {
   "cell_type": "code",
   "execution_count": 7,
   "outputs": [],
   "source": [
    "target, past_covariates, metadata = ds.get_data_by_unique_id(unique_id)"
   ],
   "metadata": {
    "collapsed": false,
    "ExecuteTime": {
     "end_time": "2023-11-23T09:25:39.973947Z",
     "start_time": "2023-11-23T09:25:39.606192Z"
    }
   }
  },
  {
   "cell_type": "code",
   "execution_count": 8,
   "outputs": [
    {
     "name": "stdout",
     "output_type": "stream",
     "text": [
      "<class 'pandas.core.frame.DataFrame'>\n",
      "DatetimeIndex: 24320 entries, 2012-10-09 08:30:00 to 2014-02-28 00:00:00\n",
      "Data columns (total 1 columns):\n",
      " #   Column  Non-Null Count  Dtype  \n",
      "---  ------  --------------  -----  \n",
      " 0   y       24317 non-null  float64\n",
      "dtypes: float64(1)\n",
      "memory usage: 380.0 KB\n"
     ]
    }
   ],
   "source": [
    "target.info()"
   ],
   "metadata": {
    "collapsed": false,
    "ExecuteTime": {
     "end_time": "2023-11-23T09:25:40.213380Z",
     "start_time": "2023-11-23T09:25:40.167517Z"
    }
   }
  },
  {
   "cell_type": "code",
   "execution_count": 9,
   "outputs": [
    {
     "name": "stdout",
     "output_type": "stream",
     "text": [
      "<class 'pandas.core.frame.DataFrame'>\n",
      "DatetimeIndex: 19862 entries, 2011-11-23 11:00:00 to 2014-02-28 00:00:00\n",
      "Data columns (total 10 columns):\n",
      " #   Column           Non-Null Count  Dtype  \n",
      "---  ------           --------------  -----  \n",
      " 0   temperature      19862 non-null  float32\n",
      " 1   dew_point        19862 non-null  float32\n",
      " 2   pressure         19862 non-null  float32\n",
      " 3   wind_speed       19862 non-null  float32\n",
      " 4   wind_gust        19862 non-null  float32\n",
      " 5   wind_bearing     19862 non-null  float32\n",
      " 6   precipitation    19862 non-null  float32\n",
      " 7   snow             19862 non-null  float32\n",
      " 8   cloud_cover      19862 non-null  float32\n",
      " 9   solar_radiation  19862 non-null  float32\n",
      "dtypes: float32(10)\n",
      "memory usage: 931.0 KB\n"
     ]
    }
   ],
   "source": [
    "past_covariates.info()"
   ],
   "metadata": {
    "collapsed": false,
    "ExecuteTime": {
     "end_time": "2023-11-23T09:25:41.487796Z",
     "start_time": "2023-11-23T09:25:41.214092Z"
    }
   }
  },
  {
   "cell_type": "markdown",
   "metadata": {
    "collapsed": false
   },
   "source": [
    "# Make external forecasts based on covariates"
   ]
  },
  {
   "cell_type": "code",
   "execution_count": 10,
   "metadata": {
    "collapsed": false,
    "pycharm": {
     "is_executing": true
    },
    "ExecuteTime": {
     "end_time": "2023-11-23T09:25:52.713309Z",
     "start_time": "2023-11-23T09:25:45.805926Z"
    }
   },
   "outputs": [],
   "source": [
    "from enfobench.dataset.utils import create_perfect_forecasts_from_covariates\n",
    "\n",
    "perfect_forecasts = create_perfect_forecasts_from_covariates(\n",
    "    past_covariates,\n",
    "    horizon=pd.Timedelta(\"7 days\"),\n",
    "    step=pd.Timedelta(\"24 hour\"),\n",
    ")"
   ]
  },
  {
   "cell_type": "code",
   "execution_count": 11,
   "metadata": {
    "collapsed": false,
    "ExecuteTime": {
     "end_time": "2023-11-23T09:25:52.818937Z",
     "start_time": "2023-11-23T09:25:52.733861Z"
    }
   },
   "outputs": [
    {
     "name": "stdout",
     "output_type": "stream",
     "text": [
      "<class 'pandas.core.frame.DataFrame'>\n",
      "RangeIndex: 137928 entries, 0 to 137927\n",
      "Data columns (total 12 columns):\n",
      " #   Column           Non-Null Count   Dtype         \n",
      "---  ------           --------------   -----         \n",
      " 0   timestamp        137928 non-null  datetime64[ns]\n",
      " 1   cutoff_date      137928 non-null  datetime64[ns]\n",
      " 2   temperature      137928 non-null  float32       \n",
      " 3   dew_point        137928 non-null  float32       \n",
      " 4   pressure         137928 non-null  float32       \n",
      " 5   wind_speed       137928 non-null  float32       \n",
      " 6   wind_gust        137928 non-null  float32       \n",
      " 7   wind_bearing     137928 non-null  float32       \n",
      " 8   precipitation    137928 non-null  float32       \n",
      " 9   snow             137928 non-null  float32       \n",
      " 10  cloud_cover      137928 non-null  float32       \n",
      " 11  solar_radiation  137928 non-null  float32       \n",
      "dtypes: datetime64[ns](2), float32(10)\n",
      "memory usage: 7.4 MB\n"
     ]
    }
   ],
   "source": [
    "perfect_forecasts.info()"
   ]
  },
  {
   "cell_type": "code",
   "execution_count": 12,
   "metadata": {
    "collapsed": false,
    "pycharm": {
     "is_executing": true
    },
    "ExecuteTime": {
     "end_time": "2023-11-23T09:25:53.395722Z",
     "start_time": "2023-11-23T09:25:52.811504Z"
    }
   },
   "outputs": [
    {
     "data": {
      "text/plain": "            timestamp         cutoff_date  temperature  dew_point  \\\n0 2011-11-23 12:00:00 2011-11-23 11:00:00     8.515167   6.053314   \n1 2011-11-23 13:00:00 2011-11-23 11:00:00     9.366150   6.898102   \n2 2011-11-23 14:00:00 2011-11-23 11:00:00     9.818268   7.336670   \n3 2011-11-23 15:00:00 2011-11-23 11:00:00     9.655426   7.545349   \n4 2011-11-23 16:00:00 2011-11-23 11:00:00     9.179779   7.419464   \n\n      pressure  wind_speed  wind_gust  wind_bearing  precipitation  snow  \\\n0  1018.570374    3.163105   7.092710    227.930420  -2.328306e-07   0.0   \n1  1018.497498    3.694861   7.186031    235.672974  -2.328306e-07   0.0   \n2  1018.578125    3.870760   6.684762    234.186523  -2.328306e-07   0.0   \n3  1018.738159    3.420094   5.839092    232.220032  -2.328306e-07   0.0   \n4  1018.985535    3.134620   5.201840    221.905396  -2.328306e-07   0.0   \n\n   cloud_cover  solar_radiation  \n0          1.0       247.303711  \n1          1.0       219.641495  \n2          1.0       151.042435  \n3          1.0        68.137222  \n4          1.0        15.961771  ",
      "text/html": "<div>\n<style scoped>\n    .dataframe tbody tr th:only-of-type {\n        vertical-align: middle;\n    }\n\n    .dataframe tbody tr th {\n        vertical-align: top;\n    }\n\n    .dataframe thead th {\n        text-align: right;\n    }\n</style>\n<table border=\"1\" class=\"dataframe\">\n  <thead>\n    <tr style=\"text-align: right;\">\n      <th></th>\n      <th>timestamp</th>\n      <th>cutoff_date</th>\n      <th>temperature</th>\n      <th>dew_point</th>\n      <th>pressure</th>\n      <th>wind_speed</th>\n      <th>wind_gust</th>\n      <th>wind_bearing</th>\n      <th>precipitation</th>\n      <th>snow</th>\n      <th>cloud_cover</th>\n      <th>solar_radiation</th>\n    </tr>\n  </thead>\n  <tbody>\n    <tr>\n      <th>0</th>\n      <td>2011-11-23 12:00:00</td>\n      <td>2011-11-23 11:00:00</td>\n      <td>8.515167</td>\n      <td>6.053314</td>\n      <td>1018.570374</td>\n      <td>3.163105</td>\n      <td>7.092710</td>\n      <td>227.930420</td>\n      <td>-2.328306e-07</td>\n      <td>0.0</td>\n      <td>1.0</td>\n      <td>247.303711</td>\n    </tr>\n    <tr>\n      <th>1</th>\n      <td>2011-11-23 13:00:00</td>\n      <td>2011-11-23 11:00:00</td>\n      <td>9.366150</td>\n      <td>6.898102</td>\n      <td>1018.497498</td>\n      <td>3.694861</td>\n      <td>7.186031</td>\n      <td>235.672974</td>\n      <td>-2.328306e-07</td>\n      <td>0.0</td>\n      <td>1.0</td>\n      <td>219.641495</td>\n    </tr>\n    <tr>\n      <th>2</th>\n      <td>2011-11-23 14:00:00</td>\n      <td>2011-11-23 11:00:00</td>\n      <td>9.818268</td>\n      <td>7.336670</td>\n      <td>1018.578125</td>\n      <td>3.870760</td>\n      <td>6.684762</td>\n      <td>234.186523</td>\n      <td>-2.328306e-07</td>\n      <td>0.0</td>\n      <td>1.0</td>\n      <td>151.042435</td>\n    </tr>\n    <tr>\n      <th>3</th>\n      <td>2011-11-23 15:00:00</td>\n      <td>2011-11-23 11:00:00</td>\n      <td>9.655426</td>\n      <td>7.545349</td>\n      <td>1018.738159</td>\n      <td>3.420094</td>\n      <td>5.839092</td>\n      <td>232.220032</td>\n      <td>-2.328306e-07</td>\n      <td>0.0</td>\n      <td>1.0</td>\n      <td>68.137222</td>\n    </tr>\n    <tr>\n      <th>4</th>\n      <td>2011-11-23 16:00:00</td>\n      <td>2011-11-23 11:00:00</td>\n      <td>9.179779</td>\n      <td>7.419464</td>\n      <td>1018.985535</td>\n      <td>3.134620</td>\n      <td>5.201840</td>\n      <td>221.905396</td>\n      <td>-2.328306e-07</td>\n      <td>0.0</td>\n      <td>1.0</td>\n      <td>15.961771</td>\n    </tr>\n  </tbody>\n</table>\n</div>"
     },
     "execution_count": 12,
     "metadata": {},
     "output_type": "execute_result"
    }
   ],
   "source": [
    "perfect_forecasts.head()"
   ]
  },
  {
   "cell_type": "code",
   "execution_count": 13,
   "metadata": {
    "collapsed": false,
    "ExecuteTime": {
     "end_time": "2023-11-23T09:25:53.414458Z",
     "start_time": "2023-11-23T09:25:52.930524Z"
    }
   },
   "outputs": [
    {
     "data": {
      "text/plain": "                 timestamp         cutoff_date  temperature  dew_point  \\\n137923 2014-02-27 07:00:00 2014-02-20 11:00:00     6.506134   5.168854   \n137924 2014-02-27 08:00:00 2014-02-20 11:00:00     6.726654   5.417999   \n137925 2014-02-27 09:00:00 2014-02-20 11:00:00     7.474091   5.614899   \n137926 2014-02-27 10:00:00 2014-02-20 11:00:00     7.983521   4.091736   \n137927 2014-02-27 11:00:00 2014-02-20 11:00:00     8.863586   3.427490   \n\n          pressure  wind_speed  wind_gust  wind_bearing  precipitation  \\\n137923  995.314026    8.122930  15.462187    188.039062       1.058658   \n137924  995.132080    6.130317  11.876844    218.965332       0.727250   \n137925  996.073792    6.359778  12.091746    265.768311       0.092959   \n137926  996.695862    6.367825  12.284778    273.792236       0.002462   \n137927  997.391602    6.639326  13.095889    275.929749       0.002462   \n\n                snow  cloud_cover  solar_radiation  \n137923  2.910383e-08     1.000000         0.000000  \n137924  2.910383e-08     1.000000         5.516424  \n137925  2.910383e-08     0.962584        37.017605  \n137926  2.910383e-08     0.443670       203.822159  \n137927  2.910383e-08     0.358461       357.286163  ",
      "text/html": "<div>\n<style scoped>\n    .dataframe tbody tr th:only-of-type {\n        vertical-align: middle;\n    }\n\n    .dataframe tbody tr th {\n        vertical-align: top;\n    }\n\n    .dataframe thead th {\n        text-align: right;\n    }\n</style>\n<table border=\"1\" class=\"dataframe\">\n  <thead>\n    <tr style=\"text-align: right;\">\n      <th></th>\n      <th>timestamp</th>\n      <th>cutoff_date</th>\n      <th>temperature</th>\n      <th>dew_point</th>\n      <th>pressure</th>\n      <th>wind_speed</th>\n      <th>wind_gust</th>\n      <th>wind_bearing</th>\n      <th>precipitation</th>\n      <th>snow</th>\n      <th>cloud_cover</th>\n      <th>solar_radiation</th>\n    </tr>\n  </thead>\n  <tbody>\n    <tr>\n      <th>137923</th>\n      <td>2014-02-27 07:00:00</td>\n      <td>2014-02-20 11:00:00</td>\n      <td>6.506134</td>\n      <td>5.168854</td>\n      <td>995.314026</td>\n      <td>8.122930</td>\n      <td>15.462187</td>\n      <td>188.039062</td>\n      <td>1.058658</td>\n      <td>2.910383e-08</td>\n      <td>1.000000</td>\n      <td>0.000000</td>\n    </tr>\n    <tr>\n      <th>137924</th>\n      <td>2014-02-27 08:00:00</td>\n      <td>2014-02-20 11:00:00</td>\n      <td>6.726654</td>\n      <td>5.417999</td>\n      <td>995.132080</td>\n      <td>6.130317</td>\n      <td>11.876844</td>\n      <td>218.965332</td>\n      <td>0.727250</td>\n      <td>2.910383e-08</td>\n      <td>1.000000</td>\n      <td>5.516424</td>\n    </tr>\n    <tr>\n      <th>137925</th>\n      <td>2014-02-27 09:00:00</td>\n      <td>2014-02-20 11:00:00</td>\n      <td>7.474091</td>\n      <td>5.614899</td>\n      <td>996.073792</td>\n      <td>6.359778</td>\n      <td>12.091746</td>\n      <td>265.768311</td>\n      <td>0.092959</td>\n      <td>2.910383e-08</td>\n      <td>0.962584</td>\n      <td>37.017605</td>\n    </tr>\n    <tr>\n      <th>137926</th>\n      <td>2014-02-27 10:00:00</td>\n      <td>2014-02-20 11:00:00</td>\n      <td>7.983521</td>\n      <td>4.091736</td>\n      <td>996.695862</td>\n      <td>6.367825</td>\n      <td>12.284778</td>\n      <td>273.792236</td>\n      <td>0.002462</td>\n      <td>2.910383e-08</td>\n      <td>0.443670</td>\n      <td>203.822159</td>\n    </tr>\n    <tr>\n      <th>137927</th>\n      <td>2014-02-27 11:00:00</td>\n      <td>2014-02-20 11:00:00</td>\n      <td>8.863586</td>\n      <td>3.427490</td>\n      <td>997.391602</td>\n      <td>6.639326</td>\n      <td>13.095889</td>\n      <td>275.929749</td>\n      <td>0.002462</td>\n      <td>2.910383e-08</td>\n      <td>0.358461</td>\n      <td>357.286163</td>\n    </tr>\n  </tbody>\n</table>\n</div>"
     },
     "execution_count": 13,
     "metadata": {},
     "output_type": "execute_result"
    }
   ],
   "source": [
    "perfect_forecasts.tail()"
   ]
  },
  {
   "cell_type": "markdown",
   "metadata": {},
   "source": [
    "# Create Dataset"
   ]
  },
  {
   "cell_type": "code",
   "execution_count": 14,
   "metadata": {
    "ExecuteTime": {
     "end_time": "2023-11-23T09:25:53.437739Z",
     "start_time": "2023-11-23T09:25:53.017528Z"
    }
   },
   "outputs": [],
   "source": [
    "from enfobench.dataset import Dataset\n",
    "\n",
    "dataset = Dataset(\n",
    "    target=target.loc[\"2012-01-01\":\"2013-12-31\"],\n",
    "    past_covariates=past_covariates,\n",
    "    future_covariates=perfect_forecasts,\n",
    "    metadata=metadata\n",
    ")"
   ]
  },
  {
   "cell_type": "markdown",
   "metadata": {},
   "source": [
    "# Perform crossvalidation via server"
   ]
  },
  {
   "cell_type": "code",
   "execution_count": 17,
   "metadata": {
    "ExecuteTime": {
     "end_time": "2023-11-23T09:26:21.652912Z",
     "start_time": "2023-11-23T09:26:21.554861Z"
    }
   },
   "outputs": [],
   "source": [
    "from enfobench.evaluation import ForecastClient\n",
    "\n",
    "client = ForecastClient(port=3010)"
   ]
  },
  {
   "cell_type": "code",
   "execution_count": 18,
   "outputs": [
    {
     "data": {
      "text/plain": "ModelInfo(name='Statsforecast.SeasonalExponentialSmoothing.1D.A0.500', authors=[{'name': 'Attila Balint', 'email': 'attila.balint@kuleuven.be'}], type='point', params={'alpha': 0.5})"
     },
     "execution_count": 18,
     "metadata": {},
     "output_type": "execute_result"
    }
   ],
   "source": [
    "client.info()"
   ],
   "metadata": {
    "collapsed": false,
    "ExecuteTime": {
     "end_time": "2023-11-23T09:26:22.154654Z",
     "start_time": "2023-11-23T09:26:21.804918Z"
    }
   }
  },
  {
   "cell_type": "code",
   "execution_count": 31,
   "metadata": {
    "ExecuteTime": {
     "end_time": "2023-11-23T09:31:45.367586Z",
     "start_time": "2023-11-23T09:31:38.487194Z"
    }
   },
   "outputs": [
    {
     "name": "stderr",
     "output_type": "stream",
     "text": [
      "100%|██████████| 30/30 [00:06<00:00,  4.46it/s]\n"
     ]
    }
   ],
   "source": [
    "from enfobench.evaluation import cross_validate\n",
    "crossval_df = cross_validate(\n",
    "    client,\n",
    "    dataset,\n",
    "    start_date=pd.Timestamp(\"2013-01-01T00:00:00\"),\n",
    "    end_date=pd.Timestamp(\"2013-02-01T00:00:00\"),\n",
    "    horizon=pd.Timedelta(\"38 hours\"), \n",
    "    step=pd.Timedelta(\"1 day\"), \n",
    ")"
   ]
  },
  {
   "cell_type": "code",
   "execution_count": 32,
   "metadata": {
    "ExecuteTime": {
     "end_time": "2023-11-23T09:31:45.503309Z",
     "start_time": "2023-11-23T09:31:45.373432Z"
    }
   },
   "outputs": [
    {
     "data": {
      "text/plain": "     cutoff_date           timestamp      yhat      y\n0     2013-01-01 2013-01-01 00:30:00  0.106710  0.303\n1     2013-01-01 2013-01-01 01:00:00  0.102435  0.085\n2     2013-01-01 2013-01-01 01:30:00  0.058707  0.270\n3     2013-01-01 2013-01-01 02:00:00  0.026373  0.084\n4     2013-01-01 2013-01-01 02:30:00  0.039834  0.184\n...          ...                 ...       ...    ...\n2275  2013-01-30 2013-01-31 12:00:00  0.100316  0.086\n2276  2013-01-30 2013-01-31 12:30:00  0.087095  0.095\n2277  2013-01-30 2013-01-31 13:00:00  0.091801  0.024\n2278  2013-01-30 2013-01-31 13:30:00  0.101424  0.023\n2279  2013-01-30 2013-01-31 14:00:00  0.287559  0.055\n\n[2280 rows x 4 columns]",
      "text/html": "<div>\n<style scoped>\n    .dataframe tbody tr th:only-of-type {\n        vertical-align: middle;\n    }\n\n    .dataframe tbody tr th {\n        vertical-align: top;\n    }\n\n    .dataframe thead th {\n        text-align: right;\n    }\n</style>\n<table border=\"1\" class=\"dataframe\">\n  <thead>\n    <tr style=\"text-align: right;\">\n      <th></th>\n      <th>cutoff_date</th>\n      <th>timestamp</th>\n      <th>yhat</th>\n      <th>y</th>\n    </tr>\n  </thead>\n  <tbody>\n    <tr>\n      <th>0</th>\n      <td>2013-01-01</td>\n      <td>2013-01-01 00:30:00</td>\n      <td>0.106710</td>\n      <td>0.303</td>\n    </tr>\n    <tr>\n      <th>1</th>\n      <td>2013-01-01</td>\n      <td>2013-01-01 01:00:00</td>\n      <td>0.102435</td>\n      <td>0.085</td>\n    </tr>\n    <tr>\n      <th>2</th>\n      <td>2013-01-01</td>\n      <td>2013-01-01 01:30:00</td>\n      <td>0.058707</td>\n      <td>0.270</td>\n    </tr>\n    <tr>\n      <th>3</th>\n      <td>2013-01-01</td>\n      <td>2013-01-01 02:00:00</td>\n      <td>0.026373</td>\n      <td>0.084</td>\n    </tr>\n    <tr>\n      <th>4</th>\n      <td>2013-01-01</td>\n      <td>2013-01-01 02:30:00</td>\n      <td>0.039834</td>\n      <td>0.184</td>\n    </tr>\n    <tr>\n      <th>...</th>\n      <td>...</td>\n      <td>...</td>\n      <td>...</td>\n      <td>...</td>\n    </tr>\n    <tr>\n      <th>2275</th>\n      <td>2013-01-30</td>\n      <td>2013-01-31 12:00:00</td>\n      <td>0.100316</td>\n      <td>0.086</td>\n    </tr>\n    <tr>\n      <th>2276</th>\n      <td>2013-01-30</td>\n      <td>2013-01-31 12:30:00</td>\n      <td>0.087095</td>\n      <td>0.095</td>\n    </tr>\n    <tr>\n      <th>2277</th>\n      <td>2013-01-30</td>\n      <td>2013-01-31 13:00:00</td>\n      <td>0.091801</td>\n      <td>0.024</td>\n    </tr>\n    <tr>\n      <th>2278</th>\n      <td>2013-01-30</td>\n      <td>2013-01-31 13:30:00</td>\n      <td>0.101424</td>\n      <td>0.023</td>\n    </tr>\n    <tr>\n      <th>2279</th>\n      <td>2013-01-30</td>\n      <td>2013-01-31 14:00:00</td>\n      <td>0.287559</td>\n      <td>0.055</td>\n    </tr>\n  </tbody>\n</table>\n<p>2280 rows × 4 columns</p>\n</div>"
     },
     "execution_count": 32,
     "metadata": {},
     "output_type": "execute_result"
    }
   ],
   "source": [
    "crossval_df"
   ]
  },
  {
   "cell_type": "markdown",
   "metadata": {},
   "source": [
    "# Evaluate metrics"
   ]
  },
  {
   "cell_type": "code",
   "execution_count": 33,
   "metadata": {
    "ExecuteTime": {
     "end_time": "2023-11-23T09:31:45.505614Z",
     "start_time": "2023-11-23T09:31:45.426893Z"
    }
   },
   "outputs": [],
   "source": [
    "from enfobench.evaluation import evaluate_metrics\n",
    "from enfobench.evaluation.metrics import mean_absolute_error, mean_bias_error"
   ]
  },
  {
   "cell_type": "code",
   "execution_count": 34,
   "outputs": [
    {
     "data": {
      "text/plain": "       MAE       MBE  weight\n0  0.10152  0.002554     1.0",
      "text/html": "<div>\n<style scoped>\n    .dataframe tbody tr th:only-of-type {\n        vertical-align: middle;\n    }\n\n    .dataframe tbody tr th {\n        vertical-align: top;\n    }\n\n    .dataframe thead th {\n        text-align: right;\n    }\n</style>\n<table border=\"1\" class=\"dataframe\">\n  <thead>\n    <tr style=\"text-align: right;\">\n      <th></th>\n      <th>MAE</th>\n      <th>MBE</th>\n      <th>weight</th>\n    </tr>\n  </thead>\n  <tbody>\n    <tr>\n      <th>0</th>\n      <td>0.10152</td>\n      <td>0.002554</td>\n      <td>1.0</td>\n    </tr>\n  </tbody>\n</table>\n</div>"
     },
     "execution_count": 34,
     "metadata": {},
     "output_type": "execute_result"
    }
   ],
   "source": [
    " evaluate_metrics(\n",
    "    crossval_df,\n",
    "    metrics={\n",
    "        \"MAE\": mean_absolute_error,\n",
    "        \"MBE\": mean_bias_error\n",
    "    },\n",
    ")"
   ],
   "metadata": {
    "collapsed": false,
    "ExecuteTime": {
     "end_time": "2023-11-23T09:31:45.709495Z",
     "start_time": "2023-11-23T09:31:45.453970Z"
    }
   }
  },
  {
   "cell_type": "code",
   "execution_count": 35,
   "metadata": {
    "ExecuteTime": {
     "end_time": "2023-11-23T09:31:46.502340Z",
     "start_time": "2023-11-23T09:31:45.568976Z"
    }
   },
   "outputs": [
    {
     "name": "stderr",
     "output_type": "stream",
     "text": [
      "100%|██████████| 30/30 [00:00<00:00, 73.04it/s]\n"
     ]
    }
   ],
   "source": [
    "metrics = evaluate_metrics(\n",
    "    crossval_df,\n",
    "    metrics={\n",
    "        \"MAE\": mean_absolute_error,\n",
    "        \"MBE\": mean_bias_error\n",
    "    },\n",
    "    groupby=\"cutoff_date\"\n",
    ")"
   ]
  },
  {
   "cell_type": "code",
   "execution_count": 36,
   "outputs": [
    {
     "data": {
      "text/plain": "   cutoff_date       MAE       MBE  weight\n0   2013-01-01  0.094675 -0.034761     1.0\n1   2013-01-02  0.104821 -0.038762     1.0\n2   2013-01-03  0.152007 -0.025868     1.0\n3   2013-01-04  0.154948  0.044060     1.0\n4   2013-01-05  0.162049  0.021609     1.0\n5   2013-01-06  0.117103  0.042916     1.0\n6   2013-01-07  0.084649  0.064458     1.0\n7   2013-01-08  0.096090 -0.001534     1.0\n8   2013-01-09  0.070735  0.027082     1.0\n9   2013-01-10  0.109133 -0.019709     1.0\n10  2013-01-11  0.107932 -0.063986     1.0\n11  2013-01-12  0.104236 -0.016769     1.0\n12  2013-01-13  0.117511 -0.023358     1.0\n13  2013-01-14  0.101633  0.042472     1.0\n14  2013-01-15  0.082289  0.026295     1.0\n15  2013-01-16  0.107622 -0.018451     1.0\n16  2013-01-17  0.098231 -0.000318     1.0\n17  2013-01-18  0.086392 -0.004027     1.0\n18  2013-01-19  0.085675  0.026710     1.0\n19  2013-01-20  0.083204 -0.014836     1.0\n20  2013-01-21  0.081112  0.016562     1.0\n21  2013-01-22  0.068932 -0.000739     1.0\n22  2013-01-23  0.083812  0.012874     1.0\n23  2013-01-24  0.069270  0.034687     1.0\n24  2013-01-25  0.113440 -0.044966     1.0\n25  2013-01-26  0.122343 -0.041345     1.0\n26  2013-01-27  0.120068  0.013032     1.0\n27  2013-01-28  0.092810  0.027154     1.0\n28  2013-01-29  0.094517  0.032801     1.0\n29  2013-01-30  0.078364 -0.006659     1.0",
      "text/html": "<div>\n<style scoped>\n    .dataframe tbody tr th:only-of-type {\n        vertical-align: middle;\n    }\n\n    .dataframe tbody tr th {\n        vertical-align: top;\n    }\n\n    .dataframe thead th {\n        text-align: right;\n    }\n</style>\n<table border=\"1\" class=\"dataframe\">\n  <thead>\n    <tr style=\"text-align: right;\">\n      <th></th>\n      <th>cutoff_date</th>\n      <th>MAE</th>\n      <th>MBE</th>\n      <th>weight</th>\n    </tr>\n  </thead>\n  <tbody>\n    <tr>\n      <th>0</th>\n      <td>2013-01-01</td>\n      <td>0.094675</td>\n      <td>-0.034761</td>\n      <td>1.0</td>\n    </tr>\n    <tr>\n      <th>1</th>\n      <td>2013-01-02</td>\n      <td>0.104821</td>\n      <td>-0.038762</td>\n      <td>1.0</td>\n    </tr>\n    <tr>\n      <th>2</th>\n      <td>2013-01-03</td>\n      <td>0.152007</td>\n      <td>-0.025868</td>\n      <td>1.0</td>\n    </tr>\n    <tr>\n      <th>3</th>\n      <td>2013-01-04</td>\n      <td>0.154948</td>\n      <td>0.044060</td>\n      <td>1.0</td>\n    </tr>\n    <tr>\n      <th>4</th>\n      <td>2013-01-05</td>\n      <td>0.162049</td>\n      <td>0.021609</td>\n      <td>1.0</td>\n    </tr>\n    <tr>\n      <th>5</th>\n      <td>2013-01-06</td>\n      <td>0.117103</td>\n      <td>0.042916</td>\n      <td>1.0</td>\n    </tr>\n    <tr>\n      <th>6</th>\n      <td>2013-01-07</td>\n      <td>0.084649</td>\n      <td>0.064458</td>\n      <td>1.0</td>\n    </tr>\n    <tr>\n      <th>7</th>\n      <td>2013-01-08</td>\n      <td>0.096090</td>\n      <td>-0.001534</td>\n      <td>1.0</td>\n    </tr>\n    <tr>\n      <th>8</th>\n      <td>2013-01-09</td>\n      <td>0.070735</td>\n      <td>0.027082</td>\n      <td>1.0</td>\n    </tr>\n    <tr>\n      <th>9</th>\n      <td>2013-01-10</td>\n      <td>0.109133</td>\n      <td>-0.019709</td>\n      <td>1.0</td>\n    </tr>\n    <tr>\n      <th>10</th>\n      <td>2013-01-11</td>\n      <td>0.107932</td>\n      <td>-0.063986</td>\n      <td>1.0</td>\n    </tr>\n    <tr>\n      <th>11</th>\n      <td>2013-01-12</td>\n      <td>0.104236</td>\n      <td>-0.016769</td>\n      <td>1.0</td>\n    </tr>\n    <tr>\n      <th>12</th>\n      <td>2013-01-13</td>\n      <td>0.117511</td>\n      <td>-0.023358</td>\n      <td>1.0</td>\n    </tr>\n    <tr>\n      <th>13</th>\n      <td>2013-01-14</td>\n      <td>0.101633</td>\n      <td>0.042472</td>\n      <td>1.0</td>\n    </tr>\n    <tr>\n      <th>14</th>\n      <td>2013-01-15</td>\n      <td>0.082289</td>\n      <td>0.026295</td>\n      <td>1.0</td>\n    </tr>\n    <tr>\n      <th>15</th>\n      <td>2013-01-16</td>\n      <td>0.107622</td>\n      <td>-0.018451</td>\n      <td>1.0</td>\n    </tr>\n    <tr>\n      <th>16</th>\n      <td>2013-01-17</td>\n      <td>0.098231</td>\n      <td>-0.000318</td>\n      <td>1.0</td>\n    </tr>\n    <tr>\n      <th>17</th>\n      <td>2013-01-18</td>\n      <td>0.086392</td>\n      <td>-0.004027</td>\n      <td>1.0</td>\n    </tr>\n    <tr>\n      <th>18</th>\n      <td>2013-01-19</td>\n      <td>0.085675</td>\n      <td>0.026710</td>\n      <td>1.0</td>\n    </tr>\n    <tr>\n      <th>19</th>\n      <td>2013-01-20</td>\n      <td>0.083204</td>\n      <td>-0.014836</td>\n      <td>1.0</td>\n    </tr>\n    <tr>\n      <th>20</th>\n      <td>2013-01-21</td>\n      <td>0.081112</td>\n      <td>0.016562</td>\n      <td>1.0</td>\n    </tr>\n    <tr>\n      <th>21</th>\n      <td>2013-01-22</td>\n      <td>0.068932</td>\n      <td>-0.000739</td>\n      <td>1.0</td>\n    </tr>\n    <tr>\n      <th>22</th>\n      <td>2013-01-23</td>\n      <td>0.083812</td>\n      <td>0.012874</td>\n      <td>1.0</td>\n    </tr>\n    <tr>\n      <th>23</th>\n      <td>2013-01-24</td>\n      <td>0.069270</td>\n      <td>0.034687</td>\n      <td>1.0</td>\n    </tr>\n    <tr>\n      <th>24</th>\n      <td>2013-01-25</td>\n      <td>0.113440</td>\n      <td>-0.044966</td>\n      <td>1.0</td>\n    </tr>\n    <tr>\n      <th>25</th>\n      <td>2013-01-26</td>\n      <td>0.122343</td>\n      <td>-0.041345</td>\n      <td>1.0</td>\n    </tr>\n    <tr>\n      <th>26</th>\n      <td>2013-01-27</td>\n      <td>0.120068</td>\n      <td>0.013032</td>\n      <td>1.0</td>\n    </tr>\n    <tr>\n      <th>27</th>\n      <td>2013-01-28</td>\n      <td>0.092810</td>\n      <td>0.027154</td>\n      <td>1.0</td>\n    </tr>\n    <tr>\n      <th>28</th>\n      <td>2013-01-29</td>\n      <td>0.094517</td>\n      <td>0.032801</td>\n      <td>1.0</td>\n    </tr>\n    <tr>\n      <th>29</th>\n      <td>2013-01-30</td>\n      <td>0.078364</td>\n      <td>-0.006659</td>\n      <td>1.0</td>\n    </tr>\n  </tbody>\n</table>\n</div>"
     },
     "execution_count": 36,
     "metadata": {},
     "output_type": "execute_result"
    }
   ],
   "source": [
    "metrics"
   ],
   "metadata": {
    "collapsed": false,
    "ExecuteTime": {
     "end_time": "2023-11-23T09:31:47.955768Z",
     "start_time": "2023-11-23T09:31:47.865526Z"
    }
   }
  },
  {
   "cell_type": "code",
   "execution_count": 37,
   "metadata": {
    "ExecuteTime": {
     "end_time": "2023-11-23T09:31:49.944875Z",
     "start_time": "2023-11-23T09:31:48.777238Z"
    }
   },
   "outputs": [
    {
     "data": {
      "text/plain": "<Axes: >"
     },
     "execution_count": 37,
     "metadata": {},
     "output_type": "execute_result"
    },
    {
     "data": {
      "text/plain": "<Figure size 640x480 with 1 Axes>",
      "image/png": "[encoded data removed]"
     },
     "metadata": {},
     "output_type": "display_data"
    }
   ],
   "source": [
    "metrics[['MAE', \"MBE\"]].plot()"
   ]
  },
  {
   "cell_type": "code",
   "execution_count": 20,
   "metadata": {
    "ExecuteTime": {
     "end_time": "2023-11-16T15:00:48.958286Z",
     "start_time": "2023-11-16T15:00:48.949665Z"
    }
   },
   "outputs": [],
   "source": []
  }
 ],
 "metadata": {
  "kernelspec": {
   "display_name": "Python 3 (ipykernel)",
   "language": "python",
   "name": "python3"
  },
  "language_info": {
   "codemirror_mode": {
    "name": "ipython",
    "version": 3
   },
   "file_extension": ".py",
   "mimetype": "text/x-python",
   "name": "python",
   "nbconvert_exporter": "python",
   "pygments_lexer": "ipython3",
   "version": "3.10.9"
  }
 },
 "nbformat": 4,
 "nbformat_minor": 4
}
