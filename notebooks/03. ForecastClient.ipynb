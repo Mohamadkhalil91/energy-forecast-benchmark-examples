{
 "cells": [
  {
   "cell_type": "code",
   "execution_count": 1,
   "metadata": {
    "pycharm": {
     "is_executing": true
    },
    "ExecuteTime": {
     "end_time": "2023-11-16T15:00:43.790294Z",
     "start_time": "2023-11-16T15:00:43.624977Z"
    }
   },
   "outputs": [],
   "source": [
    "import os\n",
    "os.chdir('..')"
   ]
  },
  {
   "cell_type": "code",
   "execution_count": 2,
   "metadata": {
    "ExecuteTime": {
     "end_time": "2023-11-16T15:00:44.195307Z",
     "start_time": "2023-11-16T15:00:43.632510Z"
    }
   },
   "outputs": [],
   "source": [
    "import pandas as pd"
   ]
  },
  {
   "cell_type": "markdown",
   "metadata": {},
   "source": [
    "# Load Data"
   ]
  },
  {
   "cell_type": "code",
   "execution_count": 3,
   "metadata": {
    "ExecuteTime": {
     "end_time": "2023-11-16T15:00:45.131887Z",
     "start_time": "2023-11-16T15:00:44.196174Z"
    }
   },
   "outputs": [],
   "source": [
    "from enfobench.dataset import DemandDataset\n",
    "\n",
    "ds = DemandDataset(\"data\")"
   ]
  },
  {
   "cell_type": "code",
   "execution_count": 4,
   "outputs": [],
   "source": [
    "unique_ids = ds.metadata_subset.list_unique_ids()"
   ],
   "metadata": {
    "collapsed": false,
    "ExecuteTime": {
     "end_time": "2023-11-16T15:00:45.146933Z",
     "start_time": "2023-11-16T15:00:45.132651Z"
    }
   }
  },
  {
   "cell_type": "code",
   "execution_count": 5,
   "metadata": {
    "ExecuteTime": {
     "end_time": "2023-11-16T15:00:45.161559Z",
     "start_time": "2023-11-16T15:00:45.153736Z"
    }
   },
   "outputs": [
    {
     "data": {
      "text/plain": "100"
     },
     "execution_count": 5,
     "metadata": {},
     "output_type": "execute_result"
    }
   ],
   "source": [
    "len(unique_ids)"
   ]
  },
  {
   "cell_type": "code",
   "execution_count": 6,
   "metadata": {
    "ExecuteTime": {
     "end_time": "2023-11-16T15:00:45.166740Z",
     "start_time": "2023-11-16T15:00:45.158755Z"
    }
   },
   "outputs": [
    {
     "data": {
      "text/plain": "'70aec446c47486f3'"
     },
     "execution_count": 6,
     "metadata": {},
     "output_type": "execute_result"
    }
   ],
   "source": [
    "unique_id = unique_ids[0]\n",
    "unique_id"
   ]
  },
  {
   "cell_type": "code",
   "execution_count": 7,
   "outputs": [],
   "source": [
    "target, past_covariates, metadata = ds.get_data_by_unique_id(unique_id)"
   ],
   "metadata": {
    "collapsed": false,
    "ExecuteTime": {
     "end_time": "2023-11-16T15:00:45.254283Z",
     "start_time": "2023-11-16T15:00:45.166161Z"
    }
   }
  },
  {
   "cell_type": "code",
   "execution_count": 8,
   "outputs": [
    {
     "name": "stdout",
     "output_type": "stream",
     "text": [
      "<class 'pandas.core.frame.DataFrame'>\n",
      "DatetimeIndex: 24320 entries, 2012-10-09 08:30:00 to 2014-02-28 00:00:00\n",
      "Data columns (total 1 columns):\n",
      " #   Column  Non-Null Count  Dtype  \n",
      "---  ------  --------------  -----  \n",
      " 0   y       24317 non-null  float64\n",
      "dtypes: float64(1)\n",
      "memory usage: 380.0 KB\n"
     ]
    }
   ],
   "source": [
    "target.info()"
   ],
   "metadata": {
    "collapsed": false,
    "ExecuteTime": {
     "end_time": "2023-11-16T15:00:45.278206Z",
     "start_time": "2023-11-16T15:00:45.256533Z"
    }
   }
  },
  {
   "cell_type": "code",
   "execution_count": 9,
   "outputs": [
    {
     "name": "stdout",
     "output_type": "stream",
     "text": [
      "<class 'pandas.core.frame.DataFrame'>\n",
      "DatetimeIndex: 19862 entries, 2011-11-23 11:00:00 to 2014-02-28 00:00:00\n",
      "Data columns (total 10 columns):\n",
      " #   Column           Non-Null Count  Dtype  \n",
      "---  ------           --------------  -----  \n",
      " 0   temperature      19862 non-null  float32\n",
      " 1   dew_point        19862 non-null  float32\n",
      " 2   pressure         19862 non-null  float32\n",
      " 3   wind_speed       19862 non-null  float32\n",
      " 4   wind_gust        19862 non-null  float32\n",
      " 5   wind_bearing     19862 non-null  float32\n",
      " 6   precipitation    19862 non-null  float32\n",
      " 7   snow             19862 non-null  float32\n",
      " 8   cloud_cover      19862 non-null  float32\n",
      " 9   solar_radiation  19862 non-null  float32\n",
      "dtypes: float32(10)\n",
      "memory usage: 931.0 KB\n"
     ]
    }
   ],
   "source": [
    "past_covariates.info()"
   ],
   "metadata": {
    "collapsed": false,
    "ExecuteTime": {
     "end_time": "2023-11-16T15:00:45.308944Z",
     "start_time": "2023-11-16T15:00:45.267811Z"
    }
   }
  },
  {
   "cell_type": "markdown",
   "metadata": {
    "collapsed": false
   },
   "source": [
    "# Make external forecasts based on covariates"
   ]
  },
  {
   "cell_type": "code",
   "execution_count": 10,
   "metadata": {
    "collapsed": false,
    "pycharm": {
     "is_executing": true
    },
    "ExecuteTime": {
     "end_time": "2023-11-16T15:00:46.287635Z",
     "start_time": "2023-11-16T15:00:45.280256Z"
    }
   },
   "outputs": [],
   "source": [
    "from enfobench.dataset.utils import create_perfect_forecasts_from_covariates\n",
    "\n",
    "perfect_forecasts = create_perfect_forecasts_from_covariates(\n",
    "    past_covariates,\n",
    "    horizon=pd.Timedelta(\"7 days\"),\n",
    "    step=pd.Timedelta(\"24 hour\"),\n",
    ")"
   ]
  },
  {
   "cell_type": "code",
   "execution_count": 11,
   "metadata": {
    "collapsed": false,
    "ExecuteTime": {
     "end_time": "2023-11-16T15:00:46.301573Z",
     "start_time": "2023-11-16T15:00:46.289067Z"
    }
   },
   "outputs": [
    {
     "name": "stdout",
     "output_type": "stream",
     "text": [
      "<class 'pandas.core.frame.DataFrame'>\n",
      "RangeIndex: 137928 entries, 0 to 137927\n",
      "Data columns (total 12 columns):\n",
      " #   Column           Non-Null Count   Dtype         \n",
      "---  ------           --------------   -----         \n",
      " 0   timestamp        137928 non-null  datetime64[ns]\n",
      " 1   cutoff_date      137928 non-null  datetime64[ns]\n",
      " 2   temperature      137928 non-null  float32       \n",
      " 3   dew_point        137928 non-null  float32       \n",
      " 4   pressure         137928 non-null  float32       \n",
      " 5   wind_speed       137928 non-null  float32       \n",
      " 6   wind_gust        137928 non-null  float32       \n",
      " 7   wind_bearing     137928 non-null  float32       \n",
      " 8   precipitation    137928 non-null  float32       \n",
      " 9   snow             137928 non-null  float32       \n",
      " 10  cloud_cover      137928 non-null  float32       \n",
      " 11  solar_radiation  137928 non-null  float32       \n",
      "dtypes: datetime64[ns](2), float32(10)\n",
      "memory usage: 7.4 MB\n"
     ]
    }
   ],
   "source": [
    "perfect_forecasts.info()"
   ]
  },
  {
   "cell_type": "code",
   "execution_count": 12,
   "metadata": {
    "collapsed": false,
    "pycharm": {
     "is_executing": true
    },
    "ExecuteTime": {
     "end_time": "2023-11-16T15:00:46.338882Z",
     "start_time": "2023-11-16T15:00:46.302578Z"
    }
   },
   "outputs": [
    {
     "data": {
      "text/plain": "            timestamp         cutoff_date  temperature  dew_point  \\\n0 2011-11-23 12:00:00 2011-11-23 11:00:00     8.515167   6.053314   \n1 2011-11-23 13:00:00 2011-11-23 11:00:00     9.366150   6.898102   \n2 2011-11-23 14:00:00 2011-11-23 11:00:00     9.818268   7.336670   \n3 2011-11-23 15:00:00 2011-11-23 11:00:00     9.655426   7.545349   \n4 2011-11-23 16:00:00 2011-11-23 11:00:00     9.179779   7.419464   \n\n      pressure  wind_speed  wind_gust  wind_bearing  precipitation  snow  \\\n0  1018.570374    3.163105   7.092710    227.930420  -2.328306e-07   0.0   \n1  1018.497498    3.694861   7.186031    235.672974  -2.328306e-07   0.0   \n2  1018.578125    3.870760   6.684762    234.186523  -2.328306e-07   0.0   \n3  1018.738159    3.420094   5.839092    232.220032  -2.328306e-07   0.0   \n4  1018.985535    3.134620   5.201840    221.905396  -2.328306e-07   0.0   \n\n   cloud_cover  solar_radiation  \n0          1.0       247.303711  \n1          1.0       219.641495  \n2          1.0       151.042435  \n3          1.0        68.137222  \n4          1.0        15.961771  ",
      "text/html": "<div>\n<style scoped>\n    .dataframe tbody tr th:only-of-type {\n        vertical-align: middle;\n    }\n\n    .dataframe tbody tr th {\n        vertical-align: top;\n    }\n\n    .dataframe thead th {\n        text-align: right;\n    }\n</style>\n<table border=\"1\" class=\"dataframe\">\n  <thead>\n    <tr style=\"text-align: right;\">\n      <th></th>\n      <th>timestamp</th>\n      <th>cutoff_date</th>\n      <th>temperature</th>\n      <th>dew_point</th>\n      <th>pressure</th>\n      <th>wind_speed</th>\n      <th>wind_gust</th>\n      <th>wind_bearing</th>\n      <th>precipitation</th>\n      <th>snow</th>\n      <th>cloud_cover</th>\n      <th>solar_radiation</th>\n    </tr>\n  </thead>\n  <tbody>\n    <tr>\n      <th>0</th>\n      <td>2011-11-23 12:00:00</td>\n      <td>2011-11-23 11:00:00</td>\n      <td>8.515167</td>\n      <td>6.053314</td>\n      <td>1018.570374</td>\n      <td>3.163105</td>\n      <td>7.092710</td>\n      <td>227.930420</td>\n      <td>-2.328306e-07</td>\n      <td>0.0</td>\n      <td>1.0</td>\n      <td>247.303711</td>\n    </tr>\n    <tr>\n      <th>1</th>\n      <td>2011-11-23 13:00:00</td>\n      <td>2011-11-23 11:00:00</td>\n      <td>9.366150</td>\n      <td>6.898102</td>\n      <td>1018.497498</td>\n      <td>3.694861</td>\n      <td>7.186031</td>\n      <td>235.672974</td>\n      <td>-2.328306e-07</td>\n      <td>0.0</td>\n      <td>1.0</td>\n      <td>219.641495</td>\n    </tr>\n    <tr>\n      <th>2</th>\n      <td>2011-11-23 14:00:00</td>\n      <td>2011-11-23 11:00:00</td>\n      <td>9.818268</td>\n      <td>7.336670</td>\n      <td>1018.578125</td>\n      <td>3.870760</td>\n      <td>6.684762</td>\n      <td>234.186523</td>\n      <td>-2.328306e-07</td>\n      <td>0.0</td>\n      <td>1.0</td>\n      <td>151.042435</td>\n    </tr>\n    <tr>\n      <th>3</th>\n      <td>2011-11-23 15:00:00</td>\n      <td>2011-11-23 11:00:00</td>\n      <td>9.655426</td>\n      <td>7.545349</td>\n      <td>1018.738159</td>\n      <td>3.420094</td>\n      <td>5.839092</td>\n      <td>232.220032</td>\n      <td>-2.328306e-07</td>\n      <td>0.0</td>\n      <td>1.0</td>\n      <td>68.137222</td>\n    </tr>\n    <tr>\n      <th>4</th>\n      <td>2011-11-23 16:00:00</td>\n      <td>2011-11-23 11:00:00</td>\n      <td>9.179779</td>\n      <td>7.419464</td>\n      <td>1018.985535</td>\n      <td>3.134620</td>\n      <td>5.201840</td>\n      <td>221.905396</td>\n      <td>-2.328306e-07</td>\n      <td>0.0</td>\n      <td>1.0</td>\n      <td>15.961771</td>\n    </tr>\n  </tbody>\n</table>\n</div>"
     },
     "execution_count": 12,
     "metadata": {},
     "output_type": "execute_result"
    }
   ],
   "source": [
    "perfect_forecasts.head()"
   ]
  },
  {
   "cell_type": "code",
   "execution_count": 13,
   "metadata": {
    "collapsed": false,
    "ExecuteTime": {
     "end_time": "2023-11-16T15:00:46.343302Z",
     "start_time": "2023-11-16T15:00:46.334273Z"
    }
   },
   "outputs": [
    {
     "data": {
      "text/plain": "                 timestamp         cutoff_date  temperature  dew_point  \\\n137923 2014-02-27 07:00:00 2014-02-20 11:00:00     6.506134   5.168854   \n137924 2014-02-27 08:00:00 2014-02-20 11:00:00     6.726654   5.417999   \n137925 2014-02-27 09:00:00 2014-02-20 11:00:00     7.474091   5.614899   \n137926 2014-02-27 10:00:00 2014-02-20 11:00:00     7.983521   4.091736   \n137927 2014-02-27 11:00:00 2014-02-20 11:00:00     8.863586   3.427490   \n\n          pressure  wind_speed  wind_gust  wind_bearing  precipitation  \\\n137923  995.314026    8.122930  15.462187    188.039062       1.058658   \n137924  995.132080    6.130317  11.876844    218.965332       0.727250   \n137925  996.073792    6.359778  12.091746    265.768311       0.092959   \n137926  996.695862    6.367825  12.284778    273.792236       0.002462   \n137927  997.391602    6.639326  13.095889    275.929749       0.002462   \n\n                snow  cloud_cover  solar_radiation  \n137923  2.910383e-08     1.000000         0.000000  \n137924  2.910383e-08     1.000000         5.516424  \n137925  2.910383e-08     0.962584        37.017605  \n137926  2.910383e-08     0.443670       203.822159  \n137927  2.910383e-08     0.358461       357.286163  ",
      "text/html": "<div>\n<style scoped>\n    .dataframe tbody tr th:only-of-type {\n        vertical-align: middle;\n    }\n\n    .dataframe tbody tr th {\n        vertical-align: top;\n    }\n\n    .dataframe thead th {\n        text-align: right;\n    }\n</style>\n<table border=\"1\" class=\"dataframe\">\n  <thead>\n    <tr style=\"text-align: right;\">\n      <th></th>\n      <th>timestamp</th>\n      <th>cutoff_date</th>\n      <th>temperature</th>\n      <th>dew_point</th>\n      <th>pressure</th>\n      <th>wind_speed</th>\n      <th>wind_gust</th>\n      <th>wind_bearing</th>\n      <th>precipitation</th>\n      <th>snow</th>\n      <th>cloud_cover</th>\n      <th>solar_radiation</th>\n    </tr>\n  </thead>\n  <tbody>\n    <tr>\n      <th>137923</th>\n      <td>2014-02-27 07:00:00</td>\n      <td>2014-02-20 11:00:00</td>\n      <td>6.506134</td>\n      <td>5.168854</td>\n      <td>995.314026</td>\n      <td>8.122930</td>\n      <td>15.462187</td>\n      <td>188.039062</td>\n      <td>1.058658</td>\n      <td>2.910383e-08</td>\n      <td>1.000000</td>\n      <td>0.000000</td>\n    </tr>\n    <tr>\n      <th>137924</th>\n      <td>2014-02-27 08:00:00</td>\n      <td>2014-02-20 11:00:00</td>\n      <td>6.726654</td>\n      <td>5.417999</td>\n      <td>995.132080</td>\n      <td>6.130317</td>\n      <td>11.876844</td>\n      <td>218.965332</td>\n      <td>0.727250</td>\n      <td>2.910383e-08</td>\n      <td>1.000000</td>\n      <td>5.516424</td>\n    </tr>\n    <tr>\n      <th>137925</th>\n      <td>2014-02-27 09:00:00</td>\n      <td>2014-02-20 11:00:00</td>\n      <td>7.474091</td>\n      <td>5.614899</td>\n      <td>996.073792</td>\n      <td>6.359778</td>\n      <td>12.091746</td>\n      <td>265.768311</td>\n      <td>0.092959</td>\n      <td>2.910383e-08</td>\n      <td>0.962584</td>\n      <td>37.017605</td>\n    </tr>\n    <tr>\n      <th>137926</th>\n      <td>2014-02-27 10:00:00</td>\n      <td>2014-02-20 11:00:00</td>\n      <td>7.983521</td>\n      <td>4.091736</td>\n      <td>996.695862</td>\n      <td>6.367825</td>\n      <td>12.284778</td>\n      <td>273.792236</td>\n      <td>0.002462</td>\n      <td>2.910383e-08</td>\n      <td>0.443670</td>\n      <td>203.822159</td>\n    </tr>\n    <tr>\n      <th>137927</th>\n      <td>2014-02-27 11:00:00</td>\n      <td>2014-02-20 11:00:00</td>\n      <td>8.863586</td>\n      <td>3.427490</td>\n      <td>997.391602</td>\n      <td>6.639326</td>\n      <td>13.095889</td>\n      <td>275.929749</td>\n      <td>0.002462</td>\n      <td>2.910383e-08</td>\n      <td>0.358461</td>\n      <td>357.286163</td>\n    </tr>\n  </tbody>\n</table>\n</div>"
     },
     "execution_count": 13,
     "metadata": {},
     "output_type": "execute_result"
    }
   ],
   "source": [
    "perfect_forecasts.tail()"
   ]
  },
  {
   "cell_type": "markdown",
   "metadata": {},
   "source": [
    "# Create Dataset"
   ]
  },
  {
   "cell_type": "code",
   "execution_count": 14,
   "metadata": {
    "ExecuteTime": {
     "end_time": "2023-11-16T15:00:46.424008Z",
     "start_time": "2023-11-16T15:00:46.347323Z"
    }
   },
   "outputs": [],
   "source": [
    "from enfobench.dataset import Dataset\n",
    "\n",
    "dataset = Dataset(\n",
    "    target=target.loc[\"2012-01-01\":\"2013-12-31\"],\n",
    "    past_covariates=past_covariates,\n",
    "    future_covariates=perfect_forecasts,\n",
    "    metadata=metadata\n",
    ")"
   ]
  },
  {
   "cell_type": "markdown",
   "metadata": {},
   "source": [
    "# Perform crossvalidation via server"
   ]
  },
  {
   "cell_type": "code",
   "execution_count": 21,
   "metadata": {
    "ExecuteTime": {
     "end_time": "2023-11-16T15:14:59.912524Z",
     "start_time": "2023-11-16T15:14:59.909788Z"
    }
   },
   "outputs": [],
   "source": [
    "from enfobench.evaluation import ForecastClient\n",
    "\n",
    "client = ForecastClient(port=3000)"
   ]
  },
  {
   "cell_type": "code",
   "execution_count": 38,
   "metadata": {
    "ExecuteTime": {
     "end_time": "2023-11-16T15:27:29.095942Z",
     "start_time": "2023-11-16T15:27:22.253631Z"
    }
   },
   "outputs": [
    {
     "name": "stderr",
     "output_type": "stream",
     "text": [
      "100%|██████████| 30/30 [00:06<00:00,  4.40it/s]\n"
     ]
    }
   ],
   "source": [
    "from enfobench.evaluation import cross_validate\n",
    "crossval_df = cross_validate(\n",
    "    client,\n",
    "    dataset,\n",
    "    start_date=pd.Timestamp(\"2013-01-01T00:00:00\"),\n",
    "    end_date=pd.Timestamp(\"2013-02-01T00:00:00\"),\n",
    "    horizon=pd.Timedelta(\"38 hours\"), \n",
    "    step=pd.Timedelta(\"1 day\"), \n",
    ")"
   ]
  },
  {
   "cell_type": "code",
   "execution_count": 39,
   "metadata": {
    "ExecuteTime": {
     "end_time": "2023-11-16T15:27:30.708516Z",
     "start_time": "2023-11-16T15:27:30.699428Z"
    }
   },
   "outputs": [
    {
     "data": {
      "text/plain": "     cutoff_date           timestamp      yhat      y\n0     2013-01-01 2013-01-01 00:30:00  0.165000  0.303\n1     2013-01-01 2013-01-01 01:00:00  0.126536  0.085\n2     2013-01-01 2013-01-01 01:30:00  0.066214  0.270\n3     2013-01-01 2013-01-01 02:00:00  0.042893  0.084\n4     2013-01-01 2013-01-01 02:30:00  0.039929  0.184\n...          ...                 ...       ...    ...\n2275  2013-01-30 2013-01-31 12:00:00  0.140786  0.086\n2276  2013-01-30 2013-01-31 12:30:00  0.211536  0.095\n2277  2013-01-30 2013-01-31 13:00:00  0.200643  0.024\n2278  2013-01-30 2013-01-31 13:30:00  0.159750  0.023\n2279  2013-01-30 2013-01-31 14:00:00  0.217964  0.055\n\n[2280 rows x 4 columns]",
      "text/html": "<div>\n<style scoped>\n    .dataframe tbody tr th:only-of-type {\n        vertical-align: middle;\n    }\n\n    .dataframe tbody tr th {\n        vertical-align: top;\n    }\n\n    .dataframe thead th {\n        text-align: right;\n    }\n</style>\n<table border=\"1\" class=\"dataframe\">\n  <thead>\n    <tr style=\"text-align: right;\">\n      <th></th>\n      <th>cutoff_date</th>\n      <th>timestamp</th>\n      <th>yhat</th>\n      <th>y</th>\n    </tr>\n  </thead>\n  <tbody>\n    <tr>\n      <th>0</th>\n      <td>2013-01-01</td>\n      <td>2013-01-01 00:30:00</td>\n      <td>0.165000</td>\n      <td>0.303</td>\n    </tr>\n    <tr>\n      <th>1</th>\n      <td>2013-01-01</td>\n      <td>2013-01-01 01:00:00</td>\n      <td>0.126536</td>\n      <td>0.085</td>\n    </tr>\n    <tr>\n      <th>2</th>\n      <td>2013-01-01</td>\n      <td>2013-01-01 01:30:00</td>\n      <td>0.066214</td>\n      <td>0.270</td>\n    </tr>\n    <tr>\n      <th>3</th>\n      <td>2013-01-01</td>\n      <td>2013-01-01 02:00:00</td>\n      <td>0.042893</td>\n      <td>0.084</td>\n    </tr>\n    <tr>\n      <th>4</th>\n      <td>2013-01-01</td>\n      <td>2013-01-01 02:30:00</td>\n      <td>0.039929</td>\n      <td>0.184</td>\n    </tr>\n    <tr>\n      <th>...</th>\n      <td>...</td>\n      <td>...</td>\n      <td>...</td>\n      <td>...</td>\n    </tr>\n    <tr>\n      <th>2275</th>\n      <td>2013-01-30</td>\n      <td>2013-01-31 12:00:00</td>\n      <td>0.140786</td>\n      <td>0.086</td>\n    </tr>\n    <tr>\n      <th>2276</th>\n      <td>2013-01-30</td>\n      <td>2013-01-31 12:30:00</td>\n      <td>0.211536</td>\n      <td>0.095</td>\n    </tr>\n    <tr>\n      <th>2277</th>\n      <td>2013-01-30</td>\n      <td>2013-01-31 13:00:00</td>\n      <td>0.200643</td>\n      <td>0.024</td>\n    </tr>\n    <tr>\n      <th>2278</th>\n      <td>2013-01-30</td>\n      <td>2013-01-31 13:30:00</td>\n      <td>0.159750</td>\n      <td>0.023</td>\n    </tr>\n    <tr>\n      <th>2279</th>\n      <td>2013-01-30</td>\n      <td>2013-01-31 14:00:00</td>\n      <td>0.217964</td>\n      <td>0.055</td>\n    </tr>\n  </tbody>\n</table>\n<p>2280 rows × 4 columns</p>\n</div>"
     },
     "execution_count": 39,
     "metadata": {},
     "output_type": "execute_result"
    }
   ],
   "source": [
    "crossval_df"
   ]
  },
  {
   "cell_type": "markdown",
   "metadata": {},
   "source": [
    "# Evaluate metrics"
   ]
  },
  {
   "cell_type": "code",
   "execution_count": 40,
   "metadata": {
    "ExecuteTime": {
     "end_time": "2023-11-16T15:27:33.150802Z",
     "start_time": "2023-11-16T15:27:33.141976Z"
    }
   },
   "outputs": [],
   "source": [
    "from enfobench.evaluation import evaluate_metrics_on_forecasts\n",
    "from enfobench.evaluation.metrics import mean_absolute_error, mean_bias_error"
   ]
  },
  {
   "cell_type": "code",
   "execution_count": 41,
   "metadata": {
    "ExecuteTime": {
     "end_time": "2023-11-16T15:27:34.427296Z",
     "start_time": "2023-11-16T15:27:34.313600Z"
    }
   },
   "outputs": [],
   "source": [
    "metrics = evaluate_metrics_on_forecasts(\n",
    "    crossval_df,\n",
    "    metrics={\n",
    "        \"MAE\": mean_absolute_error,\n",
    "        \"MBE\": mean_bias_error\n",
    "    }\n",
    ")"
   ]
  },
  {
   "cell_type": "code",
   "execution_count": 42,
   "metadata": {
    "ExecuteTime": {
     "end_time": "2023-11-16T15:27:35.538590Z",
     "start_time": "2023-11-16T15:27:35.249065Z"
    }
   },
   "outputs": [
    {
     "data": {
      "text/plain": "<Axes: >"
     },
     "execution_count": 42,
     "metadata": {},
     "output_type": "execute_result"
    },
    {
     "data": {
      "text/plain": "<Figure size 640x480 with 1 Axes>",
      "image/png": "[encoded data removed]"
     },
     "metadata": {},
     "output_type": "display_data"
    }
   ],
   "source": [
    "metrics.plot()"
   ]
  },
  {
   "cell_type": "code",
   "execution_count": 20,
   "metadata": {
    "ExecuteTime": {
     "end_time": "2023-11-16T15:00:48.958286Z",
     "start_time": "2023-11-16T15:00:48.949665Z"
    }
   },
   "outputs": [],
   "source": []
  }
 ],
 "metadata": {
  "kernelspec": {
   "display_name": "Python 3 (ipykernel)",
   "language": "python",
   "name": "python3"
  },
  "language_info": {
   "codemirror_mode": {
    "name": "ipython",
    "version": 3
   },
   "file_extension": ".py",
   "mimetype": "text/x-python",
   "name": "python",
   "nbconvert_exporter": "python",
   "pygments_lexer": "ipython3",
   "version": "3.10.9"
  }
 },
 "nbformat": 4,
 "nbformat_minor": 4
}
