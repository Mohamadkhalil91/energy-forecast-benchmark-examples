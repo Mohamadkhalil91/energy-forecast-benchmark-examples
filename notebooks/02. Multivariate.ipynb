{
 "cells": [
  {
   "cell_type": "code",
   "execution_count": 1,
   "metadata": {
    "ExecuteTime": {
     "end_time": "2023-11-16T15:03:05.520525Z",
     "start_time": "2023-11-16T15:03:05.514407Z"
    }
   },
   "outputs": [],
   "source": [
    "import os\n",
    "os.chdir('..')"
   ]
  },
  {
   "cell_type": "code",
   "execution_count": 2,
   "outputs": [],
   "source": [
    "import numpy as np\n",
    "import pandas as pd"
   ],
   "metadata": {
    "collapsed": false,
    "ExecuteTime": {
     "end_time": "2023-11-16T15:03:06.399758Z",
     "start_time": "2023-11-16T15:03:05.813059Z"
    }
   }
  },
  {
   "cell_type": "markdown",
   "source": [
    "# Load Data"
   ],
   "metadata": {
    "collapsed": false
   }
  },
  {
   "cell_type": "code",
   "execution_count": 3,
   "outputs": [],
   "source": [
    "from enfobench.dataset import DemandDataset\n",
    "\n",
    "ds = DemandDataset(\"data\")"
   ],
   "metadata": {
    "collapsed": false,
    "ExecuteTime": {
     "end_time": "2023-11-16T15:03:08.354208Z",
     "start_time": "2023-11-16T15:03:07.499901Z"
    }
   }
  },
  {
   "cell_type": "code",
   "execution_count": 4,
   "outputs": [],
   "source": [
    "unique_ids = ds.metadata_subset.list_unique_ids()"
   ],
   "metadata": {
    "collapsed": false,
    "ExecuteTime": {
     "end_time": "2023-11-16T15:03:08.371632Z",
     "start_time": "2023-11-16T15:03:08.357160Z"
    }
   }
  },
  {
   "cell_type": "code",
   "execution_count": 5,
   "outputs": [
    {
     "data": {
      "text/plain": "100"
     },
     "execution_count": 5,
     "metadata": {},
     "output_type": "execute_result"
    }
   ],
   "source": [
    "len(unique_ids)"
   ],
   "metadata": {
    "collapsed": false,
    "ExecuteTime": {
     "end_time": "2023-11-16T15:03:08.384431Z",
     "start_time": "2023-11-16T15:03:08.375471Z"
    }
   }
  },
  {
   "cell_type": "code",
   "execution_count": 6,
   "outputs": [
    {
     "data": {
      "text/plain": "'70aec446c47486f3'"
     },
     "execution_count": 6,
     "metadata": {},
     "output_type": "execute_result"
    }
   ],
   "source": [
    "unique_id = unique_ids[0]\n",
    "unique_id"
   ],
   "metadata": {
    "collapsed": false,
    "ExecuteTime": {
     "end_time": "2023-11-16T15:03:08.403562Z",
     "start_time": "2023-11-16T15:03:08.384015Z"
    }
   }
  },
  {
   "cell_type": "code",
   "execution_count": 7,
   "outputs": [],
   "source": [
    "target, past_covariates, metadata = ds.get_data_by_unique_id(unique_id)"
   ],
   "metadata": {
    "collapsed": false,
    "ExecuteTime": {
     "end_time": "2023-11-16T15:03:08.511438Z",
     "start_time": "2023-11-16T15:03:08.389998Z"
    }
   }
  },
  {
   "cell_type": "code",
   "execution_count": 8,
   "outputs": [
    {
     "name": "stdout",
     "output_type": "stream",
     "text": [
      "<class 'pandas.core.frame.DataFrame'>\n",
      "DatetimeIndex: 24320 entries, 2012-10-09 08:30:00 to 2014-02-28 00:00:00\n",
      "Data columns (total 1 columns):\n",
      " #   Column  Non-Null Count  Dtype  \n",
      "---  ------  --------------  -----  \n",
      " 0   y       24317 non-null  float64\n",
      "dtypes: float64(1)\n",
      "memory usage: 380.0 KB\n"
     ]
    }
   ],
   "source": [
    "target.info()"
   ],
   "metadata": {
    "collapsed": false,
    "ExecuteTime": {
     "end_time": "2023-11-16T15:03:08.512408Z",
     "start_time": "2023-11-16T15:03:08.476367Z"
    }
   }
  },
  {
   "cell_type": "code",
   "execution_count": 9,
   "outputs": [
    {
     "name": "stdout",
     "output_type": "stream",
     "text": [
      "<class 'pandas.core.frame.DataFrame'>\n",
      "DatetimeIndex: 19862 entries, 2011-11-23 11:00:00 to 2014-02-28 00:00:00\n",
      "Data columns (total 10 columns):\n",
      " #   Column           Non-Null Count  Dtype  \n",
      "---  ------           --------------  -----  \n",
      " 0   temperature      19862 non-null  float32\n",
      " 1   dew_point        19862 non-null  float32\n",
      " 2   pressure         19862 non-null  float32\n",
      " 3   wind_speed       19862 non-null  float32\n",
      " 4   wind_gust        19862 non-null  float32\n",
      " 5   wind_bearing     19862 non-null  float32\n",
      " 6   precipitation    19862 non-null  float32\n",
      " 7   snow             19862 non-null  float32\n",
      " 8   cloud_cover      19862 non-null  float32\n",
      " 9   solar_radiation  19862 non-null  float32\n",
      "dtypes: float32(10)\n",
      "memory usage: 931.0 KB\n"
     ]
    }
   ],
   "source": [
    "past_covariates.info()"
   ],
   "metadata": {
    "collapsed": false,
    "ExecuteTime": {
     "end_time": "2023-11-16T15:03:08.760073Z",
     "start_time": "2023-11-16T15:03:08.741277Z"
    }
   }
  },
  {
   "cell_type": "markdown",
   "source": [
    "# Make external forecasts based on covariates"
   ],
   "metadata": {
    "collapsed": false
   }
  },
  {
   "cell_type": "code",
   "execution_count": 10,
   "outputs": [],
   "source": [
    "from enfobench.dataset.utils import create_perfect_forecasts_from_covariates\n",
    "\n",
    "perfect_forecasts = create_perfect_forecasts_from_covariates(\n",
    "    past_covariates,\n",
    "    horizon=pd.Timedelta(\"7 days\"),\n",
    "    step=pd.Timedelta(\"24 hour\"),\n",
    ")"
   ],
   "metadata": {
    "collapsed": false,
    "ExecuteTime": {
     "end_time": "2023-11-16T15:03:10.969910Z",
     "start_time": "2023-11-16T15:03:09.675143Z"
    }
   }
  },
  {
   "cell_type": "code",
   "execution_count": 11,
   "outputs": [
    {
     "name": "stdout",
     "output_type": "stream",
     "text": [
      "<class 'pandas.core.frame.DataFrame'>\n",
      "RangeIndex: 137928 entries, 0 to 137927\n",
      "Data columns (total 12 columns):\n",
      " #   Column           Non-Null Count   Dtype         \n",
      "---  ------           --------------   -----         \n",
      " 0   timestamp        137928 non-null  datetime64[ns]\n",
      " 1   cutoff_date      137928 non-null  datetime64[ns]\n",
      " 2   temperature      137928 non-null  float32       \n",
      " 3   dew_point        137928 non-null  float32       \n",
      " 4   pressure         137928 non-null  float32       \n",
      " 5   wind_speed       137928 non-null  float32       \n",
      " 6   wind_gust        137928 non-null  float32       \n",
      " 7   wind_bearing     137928 non-null  float32       \n",
      " 8   precipitation    137928 non-null  float32       \n",
      " 9   snow             137928 non-null  float32       \n",
      " 10  cloud_cover      137928 non-null  float32       \n",
      " 11  solar_radiation  137928 non-null  float32       \n",
      "dtypes: datetime64[ns](2), float32(10)\n",
      "memory usage: 7.4 MB\n"
     ]
    }
   ],
   "source": [
    "perfect_forecasts.info()"
   ],
   "metadata": {
    "collapsed": false,
    "ExecuteTime": {
     "end_time": "2023-11-16T15:03:10.987757Z",
     "start_time": "2023-11-16T15:03:10.972686Z"
    }
   }
  },
  {
   "cell_type": "code",
   "execution_count": 12,
   "outputs": [
    {
     "data": {
      "text/plain": "            timestamp         cutoff_date  temperature  dew_point  \\\n0 2011-11-23 12:00:00 2011-11-23 11:00:00     8.515167   6.053314   \n1 2011-11-23 13:00:00 2011-11-23 11:00:00     9.366150   6.898102   \n2 2011-11-23 14:00:00 2011-11-23 11:00:00     9.818268   7.336670   \n3 2011-11-23 15:00:00 2011-11-23 11:00:00     9.655426   7.545349   \n4 2011-11-23 16:00:00 2011-11-23 11:00:00     9.179779   7.419464   \n\n      pressure  wind_speed  wind_gust  wind_bearing  precipitation  snow  \\\n0  1018.570374    3.163105   7.092710    227.930420  -2.328306e-07   0.0   \n1  1018.497498    3.694861   7.186031    235.672974  -2.328306e-07   0.0   \n2  1018.578125    3.870760   6.684762    234.186523  -2.328306e-07   0.0   \n3  1018.738159    3.420094   5.839092    232.220032  -2.328306e-07   0.0   \n4  1018.985535    3.134620   5.201840    221.905396  -2.328306e-07   0.0   \n\n   cloud_cover  solar_radiation  \n0          1.0       247.303711  \n1          1.0       219.641495  \n2          1.0       151.042435  \n3          1.0        68.137222  \n4          1.0        15.961771  ",
      "text/html": "<div>\n<style scoped>\n    .dataframe tbody tr th:only-of-type {\n        vertical-align: middle;\n    }\n\n    .dataframe tbody tr th {\n        vertical-align: top;\n    }\n\n    .dataframe thead th {\n        text-align: right;\n    }\n</style>\n<table border=\"1\" class=\"dataframe\">\n  <thead>\n    <tr style=\"text-align: right;\">\n      <th></th>\n      <th>timestamp</th>\n      <th>cutoff_date</th>\n      <th>temperature</th>\n      <th>dew_point</th>\n      <th>pressure</th>\n      <th>wind_speed</th>\n      <th>wind_gust</th>\n      <th>wind_bearing</th>\n      <th>precipitation</th>\n      <th>snow</th>\n      <th>cloud_cover</th>\n      <th>solar_radiation</th>\n    </tr>\n  </thead>\n  <tbody>\n    <tr>\n      <th>0</th>\n      <td>2011-11-23 12:00:00</td>\n      <td>2011-11-23 11:00:00</td>\n      <td>8.515167</td>\n      <td>6.053314</td>\n      <td>1018.570374</td>\n      <td>3.163105</td>\n      <td>7.092710</td>\n      <td>227.930420</td>\n      <td>-2.328306e-07</td>\n      <td>0.0</td>\n      <td>1.0</td>\n      <td>247.303711</td>\n    </tr>\n    <tr>\n      <th>1</th>\n      <td>2011-11-23 13:00:00</td>\n      <td>2011-11-23 11:00:00</td>\n      <td>9.366150</td>\n      <td>6.898102</td>\n      <td>1018.497498</td>\n      <td>3.694861</td>\n      <td>7.186031</td>\n      <td>235.672974</td>\n      <td>-2.328306e-07</td>\n      <td>0.0</td>\n      <td>1.0</td>\n      <td>219.641495</td>\n    </tr>\n    <tr>\n      <th>2</th>\n      <td>2011-11-23 14:00:00</td>\n      <td>2011-11-23 11:00:00</td>\n      <td>9.818268</td>\n      <td>7.336670</td>\n      <td>1018.578125</td>\n      <td>3.870760</td>\n      <td>6.684762</td>\n      <td>234.186523</td>\n      <td>-2.328306e-07</td>\n      <td>0.0</td>\n      <td>1.0</td>\n      <td>151.042435</td>\n    </tr>\n    <tr>\n      <th>3</th>\n      <td>2011-11-23 15:00:00</td>\n      <td>2011-11-23 11:00:00</td>\n      <td>9.655426</td>\n      <td>7.545349</td>\n      <td>1018.738159</td>\n      <td>3.420094</td>\n      <td>5.839092</td>\n      <td>232.220032</td>\n      <td>-2.328306e-07</td>\n      <td>0.0</td>\n      <td>1.0</td>\n      <td>68.137222</td>\n    </tr>\n    <tr>\n      <th>4</th>\n      <td>2011-11-23 16:00:00</td>\n      <td>2011-11-23 11:00:00</td>\n      <td>9.179779</td>\n      <td>7.419464</td>\n      <td>1018.985535</td>\n      <td>3.134620</td>\n      <td>5.201840</td>\n      <td>221.905396</td>\n      <td>-2.328306e-07</td>\n      <td>0.0</td>\n      <td>1.0</td>\n      <td>15.961771</td>\n    </tr>\n  </tbody>\n</table>\n</div>"
     },
     "execution_count": 12,
     "metadata": {},
     "output_type": "execute_result"
    }
   ],
   "source": [
    "perfect_forecasts.head()"
   ],
   "metadata": {
    "collapsed": false,
    "ExecuteTime": {
     "end_time": "2023-11-16T15:03:11.101486Z",
     "start_time": "2023-11-16T15:03:11.048364Z"
    }
   }
  },
  {
   "cell_type": "code",
   "execution_count": 13,
   "outputs": [
    {
     "data": {
      "text/plain": "                 timestamp         cutoff_date  temperature  dew_point  \\\n137923 2014-02-27 07:00:00 2014-02-20 11:00:00     6.506134   5.168854   \n137924 2014-02-27 08:00:00 2014-02-20 11:00:00     6.726654   5.417999   \n137925 2014-02-27 09:00:00 2014-02-20 11:00:00     7.474091   5.614899   \n137926 2014-02-27 10:00:00 2014-02-20 11:00:00     7.983521   4.091736   \n137927 2014-02-27 11:00:00 2014-02-20 11:00:00     8.863586   3.427490   \n\n          pressure  wind_speed  wind_gust  wind_bearing  precipitation  \\\n137923  995.314026    8.122930  15.462187    188.039062       1.058658   \n137924  995.132080    6.130317  11.876844    218.965332       0.727250   \n137925  996.073792    6.359778  12.091746    265.768311       0.092959   \n137926  996.695862    6.367825  12.284778    273.792236       0.002462   \n137927  997.391602    6.639326  13.095889    275.929749       0.002462   \n\n                snow  cloud_cover  solar_radiation  \n137923  2.910383e-08     1.000000         0.000000  \n137924  2.910383e-08     1.000000         5.516424  \n137925  2.910383e-08     0.962584        37.017605  \n137926  2.910383e-08     0.443670       203.822159  \n137927  2.910383e-08     0.358461       357.286163  ",
      "text/html": "<div>\n<style scoped>\n    .dataframe tbody tr th:only-of-type {\n        vertical-align: middle;\n    }\n\n    .dataframe tbody tr th {\n        vertical-align: top;\n    }\n\n    .dataframe thead th {\n        text-align: right;\n    }\n</style>\n<table border=\"1\" class=\"dataframe\">\n  <thead>\n    <tr style=\"text-align: right;\">\n      <th></th>\n      <th>timestamp</th>\n      <th>cutoff_date</th>\n      <th>temperature</th>\n      <th>dew_point</th>\n      <th>pressure</th>\n      <th>wind_speed</th>\n      <th>wind_gust</th>\n      <th>wind_bearing</th>\n      <th>precipitation</th>\n      <th>snow</th>\n      <th>cloud_cover</th>\n      <th>solar_radiation</th>\n    </tr>\n  </thead>\n  <tbody>\n    <tr>\n      <th>137923</th>\n      <td>2014-02-27 07:00:00</td>\n      <td>2014-02-20 11:00:00</td>\n      <td>6.506134</td>\n      <td>5.168854</td>\n      <td>995.314026</td>\n      <td>8.122930</td>\n      <td>15.462187</td>\n      <td>188.039062</td>\n      <td>1.058658</td>\n      <td>2.910383e-08</td>\n      <td>1.000000</td>\n      <td>0.000000</td>\n    </tr>\n    <tr>\n      <th>137924</th>\n      <td>2014-02-27 08:00:00</td>\n      <td>2014-02-20 11:00:00</td>\n      <td>6.726654</td>\n      <td>5.417999</td>\n      <td>995.132080</td>\n      <td>6.130317</td>\n      <td>11.876844</td>\n      <td>218.965332</td>\n      <td>0.727250</td>\n      <td>2.910383e-08</td>\n      <td>1.000000</td>\n      <td>5.516424</td>\n    </tr>\n    <tr>\n      <th>137925</th>\n      <td>2014-02-27 09:00:00</td>\n      <td>2014-02-20 11:00:00</td>\n      <td>7.474091</td>\n      <td>5.614899</td>\n      <td>996.073792</td>\n      <td>6.359778</td>\n      <td>12.091746</td>\n      <td>265.768311</td>\n      <td>0.092959</td>\n      <td>2.910383e-08</td>\n      <td>0.962584</td>\n      <td>37.017605</td>\n    </tr>\n    <tr>\n      <th>137926</th>\n      <td>2014-02-27 10:00:00</td>\n      <td>2014-02-20 11:00:00</td>\n      <td>7.983521</td>\n      <td>4.091736</td>\n      <td>996.695862</td>\n      <td>6.367825</td>\n      <td>12.284778</td>\n      <td>273.792236</td>\n      <td>0.002462</td>\n      <td>2.910383e-08</td>\n      <td>0.443670</td>\n      <td>203.822159</td>\n    </tr>\n    <tr>\n      <th>137927</th>\n      <td>2014-02-27 11:00:00</td>\n      <td>2014-02-20 11:00:00</td>\n      <td>8.863586</td>\n      <td>3.427490</td>\n      <td>997.391602</td>\n      <td>6.639326</td>\n      <td>13.095889</td>\n      <td>275.929749</td>\n      <td>0.002462</td>\n      <td>2.910383e-08</td>\n      <td>0.358461</td>\n      <td>357.286163</td>\n    </tr>\n  </tbody>\n</table>\n</div>"
     },
     "execution_count": 13,
     "metadata": {},
     "output_type": "execute_result"
    }
   ],
   "source": [
    "perfect_forecasts.tail()"
   ],
   "metadata": {
    "collapsed": false,
    "ExecuteTime": {
     "end_time": "2023-11-16T15:03:11.280265Z",
     "start_time": "2023-11-16T15:03:11.243131Z"
    }
   }
  },
  {
   "cell_type": "markdown",
   "source": [
    "# Create a Multivariate Dataset"
   ],
   "metadata": {
    "collapsed": false
   }
  },
  {
   "cell_type": "code",
   "execution_count": 17,
   "outputs": [],
   "source": [
    "from enfobench.dataset import Dataset\n",
    "\n",
    "multivariate_dataset = Dataset(\n",
    "    target=target.loc[\"2012-01-01\":\"2013-12-31\"],\n",
    "    past_covariates=past_covariates,\n",
    "    metadata=metadata\n",
    ")"
   ],
   "metadata": {
    "collapsed": false,
    "ExecuteTime": {
     "end_time": "2023-11-16T15:04:01.624364Z",
     "start_time": "2023-11-16T15:04:01.572219Z"
    }
   }
  },
  {
   "cell_type": "markdown",
   "metadata": {},
   "source": [
    "### Note:\n",
    "- these datasets are cleaned and contain no missing values\n",
    "- the target has a resolution of 30 minutes but the weather data has observations only every hour"
   ]
  },
  {
   "cell_type": "markdown",
   "metadata": {},
   "source": [
    "# Create Model"
   ]
  },
  {
   "cell_type": "code",
   "execution_count": 18,
   "metadata": {
    "ExecuteTime": {
     "end_time": "2023-11-16T15:04:50.428818Z",
     "start_time": "2023-11-16T15:04:50.399412Z"
    }
   },
   "outputs": [],
   "source": [
    "from enfobench.evaluation import AuthorInfo, ModelInfo, ForecasterType\n",
    "from enfobench.evaluation.utils import create_forecast_index\n",
    "\n",
    "class ExampleModel:\n",
    "    \n",
    "    def __init__(self, param1: int):\n",
    "        self.param1 = param1\n",
    "\n",
    "    def info(self):\n",
    "        return ModelInfo(\n",
    "            name=\"TestModel\",\n",
    "            authors=[\n",
    "                AuthorInfo(\"Attila Balint\", email=\"optional\"),  \n",
    "            ],\n",
    "            type=ForecasterType.point,\n",
    "            params={\n",
    "                \"param1\": 1,\n",
    "            },\n",
    "        )\n",
    "\n",
    "    def forecast(\n",
    "        self,\n",
    "        horizon: int,\n",
    "        history: pd.DataFrame,\n",
    "        past_covariates=None,\n",
    "        future_covariates=None,\n",
    "        level=None,\n",
    "        **kwargs,\n",
    "    ):\n",
    "        index = create_forecast_index(history, horizon)\n",
    "        prediction = pd.DataFrame(\n",
    "            index=index,\n",
    "            data={\n",
    "                \"yhat\": np.full(horizon, fill_value=history.y.mean()) + self.param1,\n",
    "            }\n",
    "        )\n",
    "        return prediction"
   ]
  },
  {
   "cell_type": "code",
   "execution_count": 19,
   "metadata": {
    "ExecuteTime": {
     "end_time": "2023-11-16T15:04:58.018039Z",
     "start_time": "2023-11-16T15:04:57.970855Z"
    }
   },
   "outputs": [],
   "source": [
    "model = ExampleModel(1)"
   ]
  },
  {
   "cell_type": "markdown",
   "source": [
    "# Perform crossvalidation on your model locally"
   ],
   "metadata": {
    "collapsed": false
   }
  },
  {
   "cell_type": "code",
   "execution_count": 20,
   "metadata": {
    "ExecuteTime": {
     "end_time": "2023-11-16T15:05:05.208911Z",
     "start_time": "2023-11-16T15:05:04.806846Z"
    }
   },
   "outputs": [
    {
     "name": "stderr",
     "output_type": "stream",
     "text": [
      "100%|██████████| 30/30 [00:00<00:00, 87.58it/s]\n"
     ]
    }
   ],
   "source": [
    "from enfobench.evaluation import cross_validate\n",
    "\n",
    "crossval_df = cross_validate(\n",
    "    model, \n",
    "    multivariate_dataset,\n",
    "    start_date=pd.Timestamp(\"2013-07-01T10:00:00\"),\n",
    "    end_date=pd.Timestamp(\"2013-08-01T00:00:00\"),\n",
    "    horizon=pd.Timedelta(\"38 hours\"), \n",
    "    step=pd.Timedelta(\"1 day\"), \n",
    ")"
   ]
  },
  {
   "cell_type": "code",
   "execution_count": 21,
   "metadata": {
    "ExecuteTime": {
     "end_time": "2023-11-16T15:05:06.195031Z",
     "start_time": "2023-11-16T15:05:06.169118Z"
    }
   },
   "outputs": [
    {
     "data": {
      "text/plain": "          cutoff_date           timestamp      yhat      y\n0 2013-07-01 10:00:00 2013-07-01 10:30:00  1.148641  0.050\n1 2013-07-01 10:00:00 2013-07-01 11:00:00  1.148641  0.072\n2 2013-07-01 10:00:00 2013-07-01 11:30:00  1.148641  0.125\n3 2013-07-01 10:00:00 2013-07-01 12:00:00  1.148641  0.081\n4 2013-07-01 10:00:00 2013-07-01 12:30:00  1.148641  0.177",
      "text/html": "<div>\n<style scoped>\n    .dataframe tbody tr th:only-of-type {\n        vertical-align: middle;\n    }\n\n    .dataframe tbody tr th {\n        vertical-align: top;\n    }\n\n    .dataframe thead th {\n        text-align: right;\n    }\n</style>\n<table border=\"1\" class=\"dataframe\">\n  <thead>\n    <tr style=\"text-align: right;\">\n      <th></th>\n      <th>cutoff_date</th>\n      <th>timestamp</th>\n      <th>yhat</th>\n      <th>y</th>\n    </tr>\n  </thead>\n  <tbody>\n    <tr>\n      <th>0</th>\n      <td>2013-07-01 10:00:00</td>\n      <td>2013-07-01 10:30:00</td>\n      <td>1.148641</td>\n      <td>0.050</td>\n    </tr>\n    <tr>\n      <th>1</th>\n      <td>2013-07-01 10:00:00</td>\n      <td>2013-07-01 11:00:00</td>\n      <td>1.148641</td>\n      <td>0.072</td>\n    </tr>\n    <tr>\n      <th>2</th>\n      <td>2013-07-01 10:00:00</td>\n      <td>2013-07-01 11:30:00</td>\n      <td>1.148641</td>\n      <td>0.125</td>\n    </tr>\n    <tr>\n      <th>3</th>\n      <td>2013-07-01 10:00:00</td>\n      <td>2013-07-01 12:00:00</td>\n      <td>1.148641</td>\n      <td>0.081</td>\n    </tr>\n    <tr>\n      <th>4</th>\n      <td>2013-07-01 10:00:00</td>\n      <td>2013-07-01 12:30:00</td>\n      <td>1.148641</td>\n      <td>0.177</td>\n    </tr>\n  </tbody>\n</table>\n</div>"
     },
     "execution_count": 21,
     "metadata": {},
     "output_type": "execute_result"
    }
   ],
   "source": [
    "crossval_df.head()"
   ]
  },
  {
   "cell_type": "markdown",
   "metadata": {},
   "source": [
    "# Evaluate metrics"
   ]
  },
  {
   "cell_type": "code",
   "execution_count": 22,
   "metadata": {
    "ExecuteTime": {
     "end_time": "2023-11-16T15:05:09.991160Z",
     "start_time": "2023-11-16T15:05:09.971165Z"
    }
   },
   "outputs": [],
   "source": [
    "from enfobench.evaluation import evaluate_metrics\n",
    "from enfobench.evaluation.metrics import mean_absolute_error, mean_bias_error"
   ]
  },
  {
   "cell_type": "code",
   "execution_count": 24,
   "metadata": {
    "ExecuteTime": {
     "end_time": "2023-11-16T15:05:17.146182Z",
     "start_time": "2023-11-16T15:05:16.973382Z"
    }
   },
   "outputs": [],
   "source": [
    "metrics = evaluate_metrics(\n",
    "    crossval_df,\n",
    "    metrics={\n",
    "        \"MAE\": mean_absolute_error,\n",
    "        \"MBE\": mean_bias_error\n",
    "    }\n",
    ")"
   ]
  },
  {
   "cell_type": "code",
   "execution_count": 25,
   "metadata": {
    "ExecuteTime": {
     "end_time": "2023-11-16T15:05:19.813214Z",
     "start_time": "2023-11-16T15:05:18.529344Z"
    }
   },
   "outputs": [
    {
     "data": {
      "text/plain": "<Axes: >"
     },
     "execution_count": 25,
     "metadata": {},
     "output_type": "execute_result"
    },
    {
     "data": {
      "text/plain": "<Figure size 640x480 with 1 Axes>",
      "image/png": "[encoded data removed]"
     },
     "metadata": {},
     "output_type": "display_data"
    }
   ],
   "source": [
    "metrics.plot()"
   ]
  },
  {
   "cell_type": "markdown",
   "metadata": {},
   "source": [
    "# Create external perfect forecast dataset to use as future covariates"
   ]
  },
  {
   "cell_type": "code",
   "execution_count": 26,
   "metadata": {
    "ExecuteTime": {
     "end_time": "2023-11-16T15:06:36.423092Z",
     "start_time": "2023-11-16T15:06:34.418664Z"
    }
   },
   "outputs": [],
   "source": [
    "from enfobench.dataset.utils import create_perfect_forecasts_from_covariates\n",
    "\n",
    "perfect_forecasts = create_perfect_forecasts_from_covariates(\n",
    "    past_covariates,\n",
    "    horizon=pd.Timedelta(\"7 days\"),\n",
    "    step=pd.Timedelta(\"12 hour\"),\n",
    ")"
   ]
  },
  {
   "cell_type": "code",
   "execution_count": 27,
   "outputs": [
    {
     "name": "stdout",
     "output_type": "stream",
     "text": [
      "<class 'pandas.core.frame.DataFrame'>\n",
      "RangeIndex: 275856 entries, 0 to 275855\n",
      "Data columns (total 12 columns):\n",
      " #   Column           Non-Null Count   Dtype         \n",
      "---  ------           --------------   -----         \n",
      " 0   timestamp        275856 non-null  datetime64[ns]\n",
      " 1   cutoff_date      275856 non-null  datetime64[ns]\n",
      " 2   temperature      275856 non-null  float32       \n",
      " 3   dew_point        275856 non-null  float32       \n",
      " 4   pressure         275856 non-null  float32       \n",
      " 5   wind_speed       275856 non-null  float32       \n",
      " 6   wind_gust        275856 non-null  float32       \n",
      " 7   wind_bearing     275856 non-null  float32       \n",
      " 8   precipitation    275856 non-null  float32       \n",
      " 9   snow             275856 non-null  float32       \n",
      " 10  cloud_cover      275856 non-null  float32       \n",
      " 11  solar_radiation  275856 non-null  float32       \n",
      "dtypes: datetime64[ns](2), float32(10)\n",
      "memory usage: 14.7 MB\n"
     ]
    }
   ],
   "source": [
    "perfect_forecasts.info()"
   ],
   "metadata": {
    "collapsed": false,
    "ExecuteTime": {
     "end_time": "2023-11-16T15:06:36.597283Z",
     "start_time": "2023-11-16T15:06:36.579482Z"
    }
   }
  },
  {
   "cell_type": "code",
   "execution_count": 28,
   "outputs": [
    {
     "data": {
      "text/plain": "            timestamp         cutoff_date  temperature  dew_point  \\\n0 2011-11-23 12:00:00 2011-11-23 11:00:00     8.515167   6.053314   \n1 2011-11-23 13:00:00 2011-11-23 11:00:00     9.366150   6.898102   \n2 2011-11-23 14:00:00 2011-11-23 11:00:00     9.818268   7.336670   \n3 2011-11-23 15:00:00 2011-11-23 11:00:00     9.655426   7.545349   \n4 2011-11-23 16:00:00 2011-11-23 11:00:00     9.179779   7.419464   \n\n      pressure  wind_speed  wind_gust  wind_bearing  precipitation  snow  \\\n0  1018.570374    3.163105   7.092710    227.930420  -2.328306e-07   0.0   \n1  1018.497498    3.694861   7.186031    235.672974  -2.328306e-07   0.0   \n2  1018.578125    3.870760   6.684762    234.186523  -2.328306e-07   0.0   \n3  1018.738159    3.420094   5.839092    232.220032  -2.328306e-07   0.0   \n4  1018.985535    3.134620   5.201840    221.905396  -2.328306e-07   0.0   \n\n   cloud_cover  solar_radiation  \n0          1.0       247.303711  \n1          1.0       219.641495  \n2          1.0       151.042435  \n3          1.0        68.137222  \n4          1.0        15.961771  ",
      "text/html": "<div>\n<style scoped>\n    .dataframe tbody tr th:only-of-type {\n        vertical-align: middle;\n    }\n\n    .dataframe tbody tr th {\n        vertical-align: top;\n    }\n\n    .dataframe thead th {\n        text-align: right;\n    }\n</style>\n<table border=\"1\" class=\"dataframe\">\n  <thead>\n    <tr style=\"text-align: right;\">\n      <th></th>\n      <th>timestamp</th>\n      <th>cutoff_date</th>\n      <th>temperature</th>\n      <th>dew_point</th>\n      <th>pressure</th>\n      <th>wind_speed</th>\n      <th>wind_gust</th>\n      <th>wind_bearing</th>\n      <th>precipitation</th>\n      <th>snow</th>\n      <th>cloud_cover</th>\n      <th>solar_radiation</th>\n    </tr>\n  </thead>\n  <tbody>\n    <tr>\n      <th>0</th>\n      <td>2011-11-23 12:00:00</td>\n      <td>2011-11-23 11:00:00</td>\n      <td>8.515167</td>\n      <td>6.053314</td>\n      <td>1018.570374</td>\n      <td>3.163105</td>\n      <td>7.092710</td>\n      <td>227.930420</td>\n      <td>-2.328306e-07</td>\n      <td>0.0</td>\n      <td>1.0</td>\n      <td>247.303711</td>\n    </tr>\n    <tr>\n      <th>1</th>\n      <td>2011-11-23 13:00:00</td>\n      <td>2011-11-23 11:00:00</td>\n      <td>9.366150</td>\n      <td>6.898102</td>\n      <td>1018.497498</td>\n      <td>3.694861</td>\n      <td>7.186031</td>\n      <td>235.672974</td>\n      <td>-2.328306e-07</td>\n      <td>0.0</td>\n      <td>1.0</td>\n      <td>219.641495</td>\n    </tr>\n    <tr>\n      <th>2</th>\n      <td>2011-11-23 14:00:00</td>\n      <td>2011-11-23 11:00:00</td>\n      <td>9.818268</td>\n      <td>7.336670</td>\n      <td>1018.578125</td>\n      <td>3.870760</td>\n      <td>6.684762</td>\n      <td>234.186523</td>\n      <td>-2.328306e-07</td>\n      <td>0.0</td>\n      <td>1.0</td>\n      <td>151.042435</td>\n    </tr>\n    <tr>\n      <th>3</th>\n      <td>2011-11-23 15:00:00</td>\n      <td>2011-11-23 11:00:00</td>\n      <td>9.655426</td>\n      <td>7.545349</td>\n      <td>1018.738159</td>\n      <td>3.420094</td>\n      <td>5.839092</td>\n      <td>232.220032</td>\n      <td>-2.328306e-07</td>\n      <td>0.0</td>\n      <td>1.0</td>\n      <td>68.137222</td>\n    </tr>\n    <tr>\n      <th>4</th>\n      <td>2011-11-23 16:00:00</td>\n      <td>2011-11-23 11:00:00</td>\n      <td>9.179779</td>\n      <td>7.419464</td>\n      <td>1018.985535</td>\n      <td>3.134620</td>\n      <td>5.201840</td>\n      <td>221.905396</td>\n      <td>-2.328306e-07</td>\n      <td>0.0</td>\n      <td>1.0</td>\n      <td>15.961771</td>\n    </tr>\n  </tbody>\n</table>\n</div>"
     },
     "execution_count": 28,
     "metadata": {},
     "output_type": "execute_result"
    }
   ],
   "source": [
    "perfect_forecasts.head()"
   ],
   "metadata": {
    "collapsed": false,
    "ExecuteTime": {
     "end_time": "2023-11-16T15:06:38.400988Z",
     "start_time": "2023-11-16T15:06:38.385632Z"
    }
   }
  },
  {
   "cell_type": "code",
   "execution_count": 29,
   "metadata": {
    "ExecuteTime": {
     "end_time": "2023-11-16T15:06:43.067828Z",
     "start_time": "2023-11-16T15:06:43.011311Z"
    }
   },
   "outputs": [
    {
     "data": {
      "text/plain": "                 timestamp         cutoff_date  temperature  dew_point  \\\n275851 2014-02-27 19:00:00 2014-02-20 23:00:00     5.689819   1.813721   \n275852 2014-02-27 20:00:00 2014-02-20 23:00:00     4.810242   2.094910   \n275853 2014-02-27 21:00:00 2014-02-20 23:00:00     3.816071   2.081482   \n275854 2014-02-27 22:00:00 2014-02-20 23:00:00     3.409973   1.926727   \n275855 2014-02-27 23:00:00 2014-02-20 23:00:00     2.926239   1.651093   \n\n          pressure  wind_speed  wind_gust  wind_bearing  precipitation  \\\n275851  997.900513    3.469654   6.335038    234.681274            0.0   \n275852  997.599365    3.247617   5.910464    234.341431            0.0   \n275853  997.349792    2.962546   5.246741    227.134399            0.0   \n275854  996.695862    2.885335   4.526915    207.307251            0.0   \n275855  995.616455    3.008154   5.425984    196.426453            0.0   \n\n                snow  cloud_cover  solar_radiation  \n275851  2.910383e-08     0.187646              0.0  \n275852  2.910383e-08     0.198816              0.0  \n275853  2.910383e-08     0.053958              0.0  \n275854  2.910383e-08     0.091282              0.0  \n275855  2.910383e-08     0.096165              0.0  ",
      "text/html": "<div>\n<style scoped>\n    .dataframe tbody tr th:only-of-type {\n        vertical-align: middle;\n    }\n\n    .dataframe tbody tr th {\n        vertical-align: top;\n    }\n\n    .dataframe thead th {\n        text-align: right;\n    }\n</style>\n<table border=\"1\" class=\"dataframe\">\n  <thead>\n    <tr style=\"text-align: right;\">\n      <th></th>\n      <th>timestamp</th>\n      <th>cutoff_date</th>\n      <th>temperature</th>\n      <th>dew_point</th>\n      <th>pressure</th>\n      <th>wind_speed</th>\n      <th>wind_gust</th>\n      <th>wind_bearing</th>\n      <th>precipitation</th>\n      <th>snow</th>\n      <th>cloud_cover</th>\n      <th>solar_radiation</th>\n    </tr>\n  </thead>\n  <tbody>\n    <tr>\n      <th>275851</th>\n      <td>2014-02-27 19:00:00</td>\n      <td>2014-02-20 23:00:00</td>\n      <td>5.689819</td>\n      <td>1.813721</td>\n      <td>997.900513</td>\n      <td>3.469654</td>\n      <td>6.335038</td>\n      <td>234.681274</td>\n      <td>0.0</td>\n      <td>2.910383e-08</td>\n      <td>0.187646</td>\n      <td>0.0</td>\n    </tr>\n    <tr>\n      <th>275852</th>\n      <td>2014-02-27 20:00:00</td>\n      <td>2014-02-20 23:00:00</td>\n      <td>4.810242</td>\n      <td>2.094910</td>\n      <td>997.599365</td>\n      <td>3.247617</td>\n      <td>5.910464</td>\n      <td>234.341431</td>\n      <td>0.0</td>\n      <td>2.910383e-08</td>\n      <td>0.198816</td>\n      <td>0.0</td>\n    </tr>\n    <tr>\n      <th>275853</th>\n      <td>2014-02-27 21:00:00</td>\n      <td>2014-02-20 23:00:00</td>\n      <td>3.816071</td>\n      <td>2.081482</td>\n      <td>997.349792</td>\n      <td>2.962546</td>\n      <td>5.246741</td>\n      <td>227.134399</td>\n      <td>0.0</td>\n      <td>2.910383e-08</td>\n      <td>0.053958</td>\n      <td>0.0</td>\n    </tr>\n    <tr>\n      <th>275854</th>\n      <td>2014-02-27 22:00:00</td>\n      <td>2014-02-20 23:00:00</td>\n      <td>3.409973</td>\n      <td>1.926727</td>\n      <td>996.695862</td>\n      <td>2.885335</td>\n      <td>4.526915</td>\n      <td>207.307251</td>\n      <td>0.0</td>\n      <td>2.910383e-08</td>\n      <td>0.091282</td>\n      <td>0.0</td>\n    </tr>\n    <tr>\n      <th>275855</th>\n      <td>2014-02-27 23:00:00</td>\n      <td>2014-02-20 23:00:00</td>\n      <td>2.926239</td>\n      <td>1.651093</td>\n      <td>995.616455</td>\n      <td>3.008154</td>\n      <td>5.425984</td>\n      <td>196.426453</td>\n      <td>0.0</td>\n      <td>2.910383e-08</td>\n      <td>0.096165</td>\n      <td>0.0</td>\n    </tr>\n  </tbody>\n</table>\n</div>"
     },
     "execution_count": 29,
     "metadata": {},
     "output_type": "execute_result"
    }
   ],
   "source": [
    "perfect_forecasts.tail()"
   ]
  },
  {
   "cell_type": "code",
   "execution_count": 32,
   "metadata": {
    "ExecuteTime": {
     "end_time": "2023-11-16T15:07:20.018210Z",
     "start_time": "2023-11-16T15:07:19.966113Z"
    }
   },
   "outputs": [],
   "source": [
    "full_dataset = Dataset(\n",
    "    target=target.loc[\"2012-01-01\":\"2013-12-31\"],\n",
    "    past_covariates=past_covariates,\n",
    "    future_covariates=perfect_forecasts,\n",
    ")"
   ]
  },
  {
   "cell_type": "code",
   "execution_count": 33,
   "metadata": {
    "ExecuteTime": {
     "end_time": "2023-11-16T15:07:21.694236Z",
     "start_time": "2023-11-16T15:07:21.263002Z"
    }
   },
   "outputs": [
    {
     "name": "stderr",
     "output_type": "stream",
     "text": [
      "100%|██████████| 30/30 [00:00<00:00, 75.15it/s]\n"
     ]
    }
   ],
   "source": [
    "crossval_df = cross_validate(\n",
    "    ExampleModel(200), \n",
    "    full_dataset,\n",
    "    start_date=pd.Timestamp(\"2013-07-01T10:00:00\"),\n",
    "    end_date=pd.Timestamp(\"2013-08-01T00:00:00\"),\n",
    "    horizon=pd.Timedelta(\"38 hours\"), \n",
    "    step=pd.Timedelta(\"1 day\"), \n",
    ")"
   ]
  },
  {
   "cell_type": "markdown",
   "metadata": {},
   "source": [
    "Merge the target values with the forecasts"
   ]
  },
  {
   "cell_type": "markdown",
   "metadata": {},
   "source": [
    "Evaluate the metrics you are interested in."
   ]
  },
  {
   "cell_type": "code",
   "execution_count": 35,
   "metadata": {
    "ExecuteTime": {
     "end_time": "2023-11-16T15:07:33.117443Z",
     "start_time": "2023-11-16T15:07:32.952514Z"
    }
   },
   "outputs": [],
   "source": [
    "metrics = evaluate_metrics(\n",
    "    crossval_df, \n",
    "    metrics={\n",
    "        \"MAE\": mean_absolute_error,\n",
    "        \"MBE\": mean_bias_error\n",
    "    }\n",
    ")"
   ]
  },
  {
   "cell_type": "code",
   "execution_count": 36,
   "metadata": {
    "ExecuteTime": {
     "end_time": "2023-11-16T15:07:34.820242Z",
     "start_time": "2023-11-16T15:07:34.381352Z"
    }
   },
   "outputs": [
    {
     "data": {
      "text/plain": "<Axes: >"
     },
     "execution_count": 36,
     "metadata": {},
     "output_type": "execute_result"
    },
    {
     "data": {
      "text/plain": "<Figure size 640x480 with 1 Axes>",
      "image/png": "[encoded data removed]"
     },
     "metadata": {},
     "output_type": "display_data"
    }
   ],
   "source": [
    "metrics.plot()"
   ]
  },
  {
   "cell_type": "code",
   "execution_count": null,
   "metadata": {},
   "outputs": [],
   "source": []
  }
 ],
 "metadata": {
  "kernelspec": {
   "display_name": "Python 3 (ipykernel)",
   "language": "python",
   "name": "python3"
  },
  "language_info": {
   "codemirror_mode": {
    "name": "ipython",
    "version": 3
   },
   "file_extension": ".py",
   "mimetype": "text/x-python",
   "name": "python",
   "nbconvert_exporter": "python",
   "pygments_lexer": "ipython3",
   "version": "3.10.9"
  }
 },
 "nbformat": 4,
 "nbformat_minor": 4
}
