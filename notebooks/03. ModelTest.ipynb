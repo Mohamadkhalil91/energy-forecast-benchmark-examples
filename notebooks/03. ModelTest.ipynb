{
 "cells": [
  {
   "cell_type": "code",
   "execution_count": 1,
   "metadata": {
    "pycharm": {
     "is_executing": true
    }
   },
   "outputs": [],
   "source": [
    "import os\n",
    "os.chdir('..')"
   ]
  },
  {
   "cell_type": "code",
   "execution_count": 2,
   "metadata": {
    "ExecuteTime": {
     "end_time": "2023-06-22T15:49:34.317413Z",
     "start_time": "2023-06-22T15:49:32.976993Z"
    }
   },
   "outputs": [],
   "source": [
    "import numpy as np\n",
    "import pandas as pd\n",
    "import matplotlib.pyplot as plt"
   ]
  },
  {
   "cell_type": "markdown",
   "metadata": {},
   "source": [
    "# Load Data"
   ]
  },
  {
   "cell_type": "markdown",
   "metadata": {},
   "source": [
    "## Load target values"
   ]
  },
  {
   "cell_type": "code",
   "execution_count": 3,
   "metadata": {
    "ExecuteTime": {
     "end_time": "2023-06-22T15:49:34.348048Z",
     "start_time": "2023-06-22T15:49:34.317607Z"
    }
   },
   "outputs": [],
   "source": [
    "data = pd.read_csv(\"./data/load.csv\", parse_dates=['timestamp'], index_col=\"timestamp\")"
   ]
  },
  {
   "cell_type": "code",
   "execution_count": 4,
   "metadata": {},
   "outputs": [
    {
     "data": {
      "text/html": [
       "<div>\n",
       "<style scoped>\n",
       "    .dataframe tbody tr th:only-of-type {\n",
       "        vertical-align: middle;\n",
       "    }\n",
       "\n",
       "    .dataframe tbody tr th {\n",
       "        vertical-align: top;\n",
       "    }\n",
       "\n",
       "    .dataframe thead th {\n",
       "        text-align: right;\n",
       "    }\n",
       "</style>\n",
       "<table border=\"1\" class=\"dataframe\">\n",
       "  <thead>\n",
       "    <tr style=\"text-align: right;\">\n",
       "      <th></th>\n",
       "      <th>value</th>\n",
       "    </tr>\n",
       "    <tr>\n",
       "      <th>timestamp</th>\n",
       "      <th></th>\n",
       "    </tr>\n",
       "  </thead>\n",
       "  <tbody>\n",
       "    <tr>\n",
       "      <th>2012-09-24 12:30:00</th>\n",
       "      <td>1836.0</td>\n",
       "    </tr>\n",
       "    <tr>\n",
       "      <th>2012-09-24 13:00:00</th>\n",
       "      <td>1946.0</td>\n",
       "    </tr>\n",
       "    <tr>\n",
       "      <th>2012-09-24 13:30:00</th>\n",
       "      <td>1030.0</td>\n",
       "    </tr>\n",
       "    <tr>\n",
       "      <th>2012-09-24 14:00:00</th>\n",
       "      <td>562.0</td>\n",
       "    </tr>\n",
       "    <tr>\n",
       "      <th>2012-09-24 14:30:00</th>\n",
       "      <td>560.0</td>\n",
       "    </tr>\n",
       "  </tbody>\n",
       "</table>\n",
       "</div>"
      ],
      "text/plain": [
       "                      value\n",
       "timestamp                  \n",
       "2012-09-24 12:30:00  1836.0\n",
       "2012-09-24 13:00:00  1946.0\n",
       "2012-09-24 13:30:00  1030.0\n",
       "2012-09-24 14:00:00   562.0\n",
       "2012-09-24 14:30:00   560.0"
      ]
     },
     "execution_count": 4,
     "metadata": {},
     "output_type": "execute_result"
    }
   ],
   "source": [
    "data.head()"
   ]
  },
  {
   "cell_type": "code",
   "execution_count": 5,
   "metadata": {},
   "outputs": [
    {
     "data": {
      "text/html": [
       "<div>\n",
       "<style scoped>\n",
       "    .dataframe tbody tr th:only-of-type {\n",
       "        vertical-align: middle;\n",
       "    }\n",
       "\n",
       "    .dataframe tbody tr th {\n",
       "        vertical-align: top;\n",
       "    }\n",
       "\n",
       "    .dataframe thead th {\n",
       "        text-align: right;\n",
       "    }\n",
       "</style>\n",
       "<table border=\"1\" class=\"dataframe\">\n",
       "  <thead>\n",
       "    <tr style=\"text-align: right;\">\n",
       "      <th></th>\n",
       "      <th>value</th>\n",
       "    </tr>\n",
       "    <tr>\n",
       "      <th>timestamp</th>\n",
       "      <th></th>\n",
       "    </tr>\n",
       "  </thead>\n",
       "  <tbody>\n",
       "    <tr>\n",
       "      <th>2014-02-14 21:30:00</th>\n",
       "      <td>880.0</td>\n",
       "    </tr>\n",
       "    <tr>\n",
       "      <th>2014-02-14 22:00:00</th>\n",
       "      <td>914.0</td>\n",
       "    </tr>\n",
       "    <tr>\n",
       "      <th>2014-02-14 22:30:00</th>\n",
       "      <td>830.0</td>\n",
       "    </tr>\n",
       "    <tr>\n",
       "      <th>2014-02-14 23:00:00</th>\n",
       "      <td>1884.0</td>\n",
       "    </tr>\n",
       "    <tr>\n",
       "      <th>2014-02-14 23:30:00</th>\n",
       "      <td>1578.0</td>\n",
       "    </tr>\n",
       "  </tbody>\n",
       "</table>\n",
       "</div>"
      ],
      "text/plain": [
       "                      value\n",
       "timestamp                  \n",
       "2014-02-14 21:30:00   880.0\n",
       "2014-02-14 22:00:00   914.0\n",
       "2014-02-14 22:30:00   830.0\n",
       "2014-02-14 23:00:00  1884.0\n",
       "2014-02-14 23:30:00  1578.0"
      ]
     },
     "execution_count": 5,
     "metadata": {},
     "output_type": "execute_result"
    }
   ],
   "source": [
    "data.tail()"
   ]
  },
  {
   "cell_type": "code",
   "execution_count": 6,
   "metadata": {},
   "outputs": [
    {
     "data": {
      "text/plain": [
       "<Axes: xlabel='timestamp'>"
      ]
     },
     "execution_count": 6,
     "metadata": {},
     "output_type": "execute_result"
    },
    {
     "data": {
      "image/png": "[encoded data removed]",
      "text/plain": [
       "<Figure size 640x480 with 1 Axes>"
      ]
     },
     "metadata": {},
     "output_type": "display_data"
    }
   ],
   "source": [
    "data.plot()"
   ]
  },
  {
   "cell_type": "markdown",
   "metadata": {},
   "source": [
    "## Load covariates"
   ]
  },
  {
   "cell_type": "code",
   "execution_count": 7,
   "metadata": {},
   "outputs": [],
   "source": [
    "covariates = pd.read_csv(\"./data/covariates.csv\", parse_dates=['timestamp'], index_col='timestamp')"
   ]
  },
  {
   "cell_type": "code",
   "execution_count": 8,
   "metadata": {},
   "outputs": [
    {
     "name": "stdout",
     "output_type": "stream",
     "text": [
      "<class 'pandas.core.frame.DataFrame'>\n",
      "DatetimeIndex: 21165 entries, 2011-11-11 00:00:00 to 2014-02-15 23:00:00\n",
      "Data columns (total 11 columns):\n",
      " #   Column               Non-Null Count  Dtype  \n",
      "---  ------               --------------  -----  \n",
      " 0   visibility           21165 non-null  float64\n",
      " 1   windBearing          21165 non-null  int64  \n",
      " 2   temperature          21165 non-null  float64\n",
      " 3   dewPoint             21165 non-null  float64\n",
      " 4   pressure             21152 non-null  float64\n",
      " 5   apparentTemperature  21165 non-null  float64\n",
      " 6   windSpeed            21165 non-null  float64\n",
      " 7   precipType           21165 non-null  object \n",
      " 8   icon                 21165 non-null  object \n",
      " 9   humidity             21165 non-null  float64\n",
      " 10  summary              21165 non-null  object \n",
      "dtypes: float64(7), int64(1), object(3)\n",
      "memory usage: 1.9+ MB\n"
     ]
    }
   ],
   "source": [
    "covariates.info()"
   ]
  },
  {
   "cell_type": "code",
   "execution_count": 9,
   "metadata": {},
   "outputs": [
    {
     "data": {
      "text/html": [
       "<div>\n",
       "<style scoped>\n",
       "    .dataframe tbody tr th:only-of-type {\n",
       "        vertical-align: middle;\n",
       "    }\n",
       "\n",
       "    .dataframe tbody tr th {\n",
       "        vertical-align: top;\n",
       "    }\n",
       "\n",
       "    .dataframe thead th {\n",
       "        text-align: right;\n",
       "    }\n",
       "</style>\n",
       "<table border=\"1\" class=\"dataframe\">\n",
       "  <thead>\n",
       "    <tr style=\"text-align: right;\">\n",
       "      <th></th>\n",
       "      <th>visibility</th>\n",
       "      <th>windBearing</th>\n",
       "      <th>temperature</th>\n",
       "      <th>dewPoint</th>\n",
       "      <th>pressure</th>\n",
       "      <th>apparentTemperature</th>\n",
       "      <th>windSpeed</th>\n",
       "      <th>precipType</th>\n",
       "      <th>icon</th>\n",
       "      <th>humidity</th>\n",
       "      <th>summary</th>\n",
       "    </tr>\n",
       "    <tr>\n",
       "      <th>timestamp</th>\n",
       "      <th></th>\n",
       "      <th></th>\n",
       "      <th></th>\n",
       "      <th></th>\n",
       "      <th></th>\n",
       "      <th></th>\n",
       "      <th></th>\n",
       "      <th></th>\n",
       "      <th></th>\n",
       "      <th></th>\n",
       "      <th></th>\n",
       "    </tr>\n",
       "  </thead>\n",
       "  <tbody>\n",
       "    <tr>\n",
       "      <th>2011-11-11 00:00:00</th>\n",
       "      <td>5.97</td>\n",
       "      <td>104</td>\n",
       "      <td>10.24</td>\n",
       "      <td>8.86</td>\n",
       "      <td>1016.76</td>\n",
       "      <td>10.24</td>\n",
       "      <td>2.77</td>\n",
       "      <td>rain</td>\n",
       "      <td>partly-cloudy-night</td>\n",
       "      <td>0.91</td>\n",
       "      <td>Partly Cloudy</td>\n",
       "    </tr>\n",
       "    <tr>\n",
       "      <th>2011-11-11 01:00:00</th>\n",
       "      <td>4.88</td>\n",
       "      <td>99</td>\n",
       "      <td>9.76</td>\n",
       "      <td>8.83</td>\n",
       "      <td>1016.63</td>\n",
       "      <td>8.24</td>\n",
       "      <td>2.95</td>\n",
       "      <td>rain</td>\n",
       "      <td>partly-cloudy-night</td>\n",
       "      <td>0.94</td>\n",
       "      <td>Partly Cloudy</td>\n",
       "    </tr>\n",
       "    <tr>\n",
       "      <th>2011-11-11 02:00:00</th>\n",
       "      <td>3.70</td>\n",
       "      <td>98</td>\n",
       "      <td>9.46</td>\n",
       "      <td>8.79</td>\n",
       "      <td>1016.36</td>\n",
       "      <td>7.76</td>\n",
       "      <td>3.17</td>\n",
       "      <td>rain</td>\n",
       "      <td>partly-cloudy-night</td>\n",
       "      <td>0.96</td>\n",
       "      <td>Partly Cloudy</td>\n",
       "    </tr>\n",
       "    <tr>\n",
       "      <th>2011-11-11 03:00:00</th>\n",
       "      <td>3.12</td>\n",
       "      <td>99</td>\n",
       "      <td>9.23</td>\n",
       "      <td>8.63</td>\n",
       "      <td>1016.28</td>\n",
       "      <td>7.44</td>\n",
       "      <td>3.25</td>\n",
       "      <td>rain</td>\n",
       "      <td>fog</td>\n",
       "      <td>0.96</td>\n",
       "      <td>Foggy</td>\n",
       "    </tr>\n",
       "    <tr>\n",
       "      <th>2011-11-11 04:00:00</th>\n",
       "      <td>1.85</td>\n",
       "      <td>111</td>\n",
       "      <td>9.26</td>\n",
       "      <td>9.21</td>\n",
       "      <td>1015.98</td>\n",
       "      <td>7.24</td>\n",
       "      <td>3.70</td>\n",
       "      <td>rain</td>\n",
       "      <td>fog</td>\n",
       "      <td>1.00</td>\n",
       "      <td>Foggy</td>\n",
       "    </tr>\n",
       "  </tbody>\n",
       "</table>\n",
       "</div>"
      ],
      "text/plain": [
       "                     visibility  windBearing  temperature  dewPoint  pressure  \\\n",
       "timestamp                                                                       \n",
       "2011-11-11 00:00:00        5.97          104        10.24      8.86   1016.76   \n",
       "2011-11-11 01:00:00        4.88           99         9.76      8.83   1016.63   \n",
       "2011-11-11 02:00:00        3.70           98         9.46      8.79   1016.36   \n",
       "2011-11-11 03:00:00        3.12           99         9.23      8.63   1016.28   \n",
       "2011-11-11 04:00:00        1.85          111         9.26      9.21   1015.98   \n",
       "\n",
       "                     apparentTemperature  windSpeed precipType  \\\n",
       "timestamp                                                        \n",
       "2011-11-11 00:00:00                10.24       2.77       rain   \n",
       "2011-11-11 01:00:00                 8.24       2.95       rain   \n",
       "2011-11-11 02:00:00                 7.76       3.17       rain   \n",
       "2011-11-11 03:00:00                 7.44       3.25       rain   \n",
       "2011-11-11 04:00:00                 7.24       3.70       rain   \n",
       "\n",
       "                                    icon  humidity        summary  \n",
       "timestamp                                                          \n",
       "2011-11-11 00:00:00  partly-cloudy-night      0.91  Partly Cloudy  \n",
       "2011-11-11 01:00:00  partly-cloudy-night      0.94  Partly Cloudy  \n",
       "2011-11-11 02:00:00  partly-cloudy-night      0.96  Partly Cloudy  \n",
       "2011-11-11 03:00:00                  fog      0.96          Foggy  \n",
       "2011-11-11 04:00:00                  fog      1.00          Foggy  "
      ]
     },
     "execution_count": 9,
     "metadata": {},
     "output_type": "execute_result"
    }
   ],
   "source": [
    "covariates.head()"
   ]
  },
  {
   "cell_type": "code",
   "execution_count": 10,
   "metadata": {},
   "outputs": [
    {
     "data": {
      "text/html": [
       "<div>\n",
       "<style scoped>\n",
       "    .dataframe tbody tr th:only-of-type {\n",
       "        vertical-align: middle;\n",
       "    }\n",
       "\n",
       "    .dataframe tbody tr th {\n",
       "        vertical-align: top;\n",
       "    }\n",
       "\n",
       "    .dataframe thead th {\n",
       "        text-align: right;\n",
       "    }\n",
       "</style>\n",
       "<table border=\"1\" class=\"dataframe\">\n",
       "  <thead>\n",
       "    <tr style=\"text-align: right;\">\n",
       "      <th></th>\n",
       "      <th>visibility</th>\n",
       "      <th>windBearing</th>\n",
       "      <th>temperature</th>\n",
       "      <th>dewPoint</th>\n",
       "      <th>pressure</th>\n",
       "      <th>apparentTemperature</th>\n",
       "      <th>windSpeed</th>\n",
       "      <th>precipType</th>\n",
       "      <th>icon</th>\n",
       "      <th>humidity</th>\n",
       "      <th>summary</th>\n",
       "    </tr>\n",
       "    <tr>\n",
       "      <th>timestamp</th>\n",
       "      <th></th>\n",
       "      <th></th>\n",
       "      <th></th>\n",
       "      <th></th>\n",
       "      <th></th>\n",
       "      <th></th>\n",
       "      <th></th>\n",
       "      <th></th>\n",
       "      <th></th>\n",
       "      <th></th>\n",
       "      <th></th>\n",
       "    </tr>\n",
       "  </thead>\n",
       "  <tbody>\n",
       "    <tr>\n",
       "      <th>2014-02-15 19:00:00</th>\n",
       "      <td>12.68</td>\n",
       "      <td>247</td>\n",
       "      <td>7.39</td>\n",
       "      <td>3.06</td>\n",
       "      <td>997.07</td>\n",
       "      <td>3.91</td>\n",
       "      <td>6.08</td>\n",
       "      <td>rain</td>\n",
       "      <td>partly-cloudy-night</td>\n",
       "      <td>0.74</td>\n",
       "      <td>Partly Cloudy</td>\n",
       "    </tr>\n",
       "    <tr>\n",
       "      <th>2014-02-15 20:00:00</th>\n",
       "      <td>13.78</td>\n",
       "      <td>249</td>\n",
       "      <td>6.56</td>\n",
       "      <td>2.76</td>\n",
       "      <td>998.15</td>\n",
       "      <td>3.03</td>\n",
       "      <td>5.61</td>\n",
       "      <td>rain</td>\n",
       "      <td>clear-night</td>\n",
       "      <td>0.77</td>\n",
       "      <td>Clear</td>\n",
       "    </tr>\n",
       "    <tr>\n",
       "      <th>2014-02-15 21:00:00</th>\n",
       "      <td>14.31</td>\n",
       "      <td>248</td>\n",
       "      <td>6.47</td>\n",
       "      <td>2.71</td>\n",
       "      <td>999.28</td>\n",
       "      <td>3.06</td>\n",
       "      <td>5.25</td>\n",
       "      <td>rain</td>\n",
       "      <td>clear-night</td>\n",
       "      <td>0.77</td>\n",
       "      <td>Clear</td>\n",
       "    </tr>\n",
       "    <tr>\n",
       "      <th>2014-02-15 22:00:00</th>\n",
       "      <td>14.31</td>\n",
       "      <td>248</td>\n",
       "      <td>5.96</td>\n",
       "      <td>2.69</td>\n",
       "      <td>1000.33</td>\n",
       "      <td>2.68</td>\n",
       "      <td>4.69</td>\n",
       "      <td>rain</td>\n",
       "      <td>clear-night</td>\n",
       "      <td>0.80</td>\n",
       "      <td>Clear</td>\n",
       "    </tr>\n",
       "    <tr>\n",
       "      <th>2014-02-15 23:00:00</th>\n",
       "      <td>14.31</td>\n",
       "      <td>246</td>\n",
       "      <td>5.38</td>\n",
       "      <td>2.60</td>\n",
       "      <td>1001.25</td>\n",
       "      <td>1.77</td>\n",
       "      <td>5.09</td>\n",
       "      <td>rain</td>\n",
       "      <td>clear-night</td>\n",
       "      <td>0.82</td>\n",
       "      <td>Clear</td>\n",
       "    </tr>\n",
       "  </tbody>\n",
       "</table>\n",
       "</div>"
      ],
      "text/plain": [
       "                     visibility  windBearing  temperature  dewPoint  pressure  \\\n",
       "timestamp                                                                       \n",
       "2014-02-15 19:00:00       12.68          247         7.39      3.06    997.07   \n",
       "2014-02-15 20:00:00       13.78          249         6.56      2.76    998.15   \n",
       "2014-02-15 21:00:00       14.31          248         6.47      2.71    999.28   \n",
       "2014-02-15 22:00:00       14.31          248         5.96      2.69   1000.33   \n",
       "2014-02-15 23:00:00       14.31          246         5.38      2.60   1001.25   \n",
       "\n",
       "                     apparentTemperature  windSpeed precipType  \\\n",
       "timestamp                                                        \n",
       "2014-02-15 19:00:00                 3.91       6.08       rain   \n",
       "2014-02-15 20:00:00                 3.03       5.61       rain   \n",
       "2014-02-15 21:00:00                 3.06       5.25       rain   \n",
       "2014-02-15 22:00:00                 2.68       4.69       rain   \n",
       "2014-02-15 23:00:00                 1.77       5.09       rain   \n",
       "\n",
       "                                    icon  humidity        summary  \n",
       "timestamp                                                          \n",
       "2014-02-15 19:00:00  partly-cloudy-night      0.74  Partly Cloudy  \n",
       "2014-02-15 20:00:00          clear-night      0.77          Clear  \n",
       "2014-02-15 21:00:00          clear-night      0.77          Clear  \n",
       "2014-02-15 22:00:00          clear-night      0.80          Clear  \n",
       "2014-02-15 23:00:00          clear-night      0.82          Clear  "
      ]
     },
     "execution_count": 10,
     "metadata": {},
     "output_type": "execute_result"
    }
   ],
   "source": [
    "covariates.tail()"
   ]
  },
  {
   "cell_type": "markdown",
   "metadata": {
    "collapsed": false,
    "jupyter": {
     "outputs_hidden": false
    }
   },
   "source": [
    "# Make external forecasts based on covariates"
   ]
  },
  {
   "cell_type": "code",
   "execution_count": 11,
   "metadata": {
    "collapsed": false,
    "jupyter": {
     "outputs_hidden": false
    },
    "pycharm": {
     "is_executing": true
    }
   },
   "outputs": [],
   "source": [
    "from enfobench.evaluation.utils import create_perfect_forecasts_from_covariates\n",
    "perfect_forecasts = create_perfect_forecasts_from_covariates(\n",
    "    covariates,\n",
    "    horizon=pd.Timedelta(\"7 days\"),\n",
    "    step=pd.Timedelta(\"12 hour\"),\n",
    ")"
   ]
  },
  {
   "cell_type": "code",
   "execution_count": 12,
   "metadata": {
    "collapsed": false,
    "jupyter": {
     "outputs_hidden": false
    }
   },
   "outputs": [
    {
     "name": "stdout",
     "output_type": "stream",
     "text": [
      "<class 'pandas.core.frame.DataFrame'>\n",
      "RangeIndex: 275828 entries, 0 to 275827\n",
      "Data columns (total 13 columns):\n",
      " #   Column               Non-Null Count   Dtype         \n",
      "---  ------               --------------   -----         \n",
      " 0   ds                   275828 non-null  datetime64[ns]\n",
      " 1   cutoff_date          275828 non-null  datetime64[ns]\n",
      " 2   visibility           275828 non-null  float64       \n",
      " 3   windBearing          275828 non-null  int64         \n",
      " 4   temperature          275828 non-null  float64       \n",
      " 5   dewPoint             275828 non-null  float64       \n",
      " 6   pressure             275674 non-null  float64       \n",
      " 7   apparentTemperature  275828 non-null  float64       \n",
      " 8   windSpeed            275828 non-null  float64       \n",
      " 9   precipType           275828 non-null  object        \n",
      " 10  icon                 275828 non-null  object        \n",
      " 11  humidity             275828 non-null  float64       \n",
      " 12  summary              275828 non-null  object        \n",
      "dtypes: datetime64[ns](2), float64(7), int64(1), object(3)\n",
      "memory usage: 27.4+ MB\n"
     ]
    }
   ],
   "source": [
    "perfect_forecasts.info()"
   ]
  },
  {
   "cell_type": "code",
   "execution_count": 13,
   "metadata": {
    "collapsed": false,
    "jupyter": {
     "outputs_hidden": false
    },
    "pycharm": {
     "is_executing": true
    }
   },
   "outputs": [
    {
     "data": {
      "text/html": [
       "<div>\n",
       "<style scoped>\n",
       "    .dataframe tbody tr th:only-of-type {\n",
       "        vertical-align: middle;\n",
       "    }\n",
       "\n",
       "    .dataframe tbody tr th {\n",
       "        vertical-align: top;\n",
       "    }\n",
       "\n",
       "    .dataframe thead th {\n",
       "        text-align: right;\n",
       "    }\n",
       "</style>\n",
       "<table border=\"1\" class=\"dataframe\">\n",
       "  <thead>\n",
       "    <tr style=\"text-align: right;\">\n",
       "      <th></th>\n",
       "      <th>ds</th>\n",
       "      <th>cutoff_date</th>\n",
       "      <th>visibility</th>\n",
       "      <th>windBearing</th>\n",
       "      <th>temperature</th>\n",
       "      <th>dewPoint</th>\n",
       "      <th>pressure</th>\n",
       "      <th>apparentTemperature</th>\n",
       "      <th>windSpeed</th>\n",
       "      <th>precipType</th>\n",
       "      <th>icon</th>\n",
       "      <th>humidity</th>\n",
       "      <th>summary</th>\n",
       "    </tr>\n",
       "  </thead>\n",
       "  <tbody>\n",
       "    <tr>\n",
       "      <th>0</th>\n",
       "      <td>2011-11-11 01:00:00</td>\n",
       "      <td>2011-11-11</td>\n",
       "      <td>4.88</td>\n",
       "      <td>99</td>\n",
       "      <td>9.76</td>\n",
       "      <td>8.83</td>\n",
       "      <td>1016.63</td>\n",
       "      <td>8.24</td>\n",
       "      <td>2.95</td>\n",
       "      <td>rain</td>\n",
       "      <td>partly-cloudy-night</td>\n",
       "      <td>0.94</td>\n",
       "      <td>Partly Cloudy</td>\n",
       "    </tr>\n",
       "    <tr>\n",
       "      <th>1</th>\n",
       "      <td>2011-11-11 02:00:00</td>\n",
       "      <td>2011-11-11</td>\n",
       "      <td>3.70</td>\n",
       "      <td>98</td>\n",
       "      <td>9.46</td>\n",
       "      <td>8.79</td>\n",
       "      <td>1016.36</td>\n",
       "      <td>7.76</td>\n",
       "      <td>3.17</td>\n",
       "      <td>rain</td>\n",
       "      <td>partly-cloudy-night</td>\n",
       "      <td>0.96</td>\n",
       "      <td>Partly Cloudy</td>\n",
       "    </tr>\n",
       "    <tr>\n",
       "      <th>2</th>\n",
       "      <td>2011-11-11 03:00:00</td>\n",
       "      <td>2011-11-11</td>\n",
       "      <td>3.12</td>\n",
       "      <td>99</td>\n",
       "      <td>9.23</td>\n",
       "      <td>8.63</td>\n",
       "      <td>1016.28</td>\n",
       "      <td>7.44</td>\n",
       "      <td>3.25</td>\n",
       "      <td>rain</td>\n",
       "      <td>fog</td>\n",
       "      <td>0.96</td>\n",
       "      <td>Foggy</td>\n",
       "    </tr>\n",
       "    <tr>\n",
       "      <th>3</th>\n",
       "      <td>2011-11-11 04:00:00</td>\n",
       "      <td>2011-11-11</td>\n",
       "      <td>1.85</td>\n",
       "      <td>111</td>\n",
       "      <td>9.26</td>\n",
       "      <td>9.21</td>\n",
       "      <td>1015.98</td>\n",
       "      <td>7.24</td>\n",
       "      <td>3.70</td>\n",
       "      <td>rain</td>\n",
       "      <td>fog</td>\n",
       "      <td>1.00</td>\n",
       "      <td>Foggy</td>\n",
       "    </tr>\n",
       "    <tr>\n",
       "      <th>4</th>\n",
       "      <td>2011-11-11 05:00:00</td>\n",
       "      <td>2011-11-11</td>\n",
       "      <td>1.96</td>\n",
       "      <td>115</td>\n",
       "      <td>9.33</td>\n",
       "      <td>8.87</td>\n",
       "      <td>1015.91</td>\n",
       "      <td>7.19</td>\n",
       "      <td>3.97</td>\n",
       "      <td>rain</td>\n",
       "      <td>fog</td>\n",
       "      <td>0.97</td>\n",
       "      <td>Foggy</td>\n",
       "    </tr>\n",
       "  </tbody>\n",
       "</table>\n",
       "</div>"
      ],
      "text/plain": [
       "                   ds cutoff_date  visibility  windBearing  temperature  \\\n",
       "0 2011-11-11 01:00:00  2011-11-11        4.88           99         9.76   \n",
       "1 2011-11-11 02:00:00  2011-11-11        3.70           98         9.46   \n",
       "2 2011-11-11 03:00:00  2011-11-11        3.12           99         9.23   \n",
       "3 2011-11-11 04:00:00  2011-11-11        1.85          111         9.26   \n",
       "4 2011-11-11 05:00:00  2011-11-11        1.96          115         9.33   \n",
       "\n",
       "   dewPoint  pressure  apparentTemperature  windSpeed precipType  \\\n",
       "0      8.83   1016.63                 8.24       2.95       rain   \n",
       "1      8.79   1016.36                 7.76       3.17       rain   \n",
       "2      8.63   1016.28                 7.44       3.25       rain   \n",
       "3      9.21   1015.98                 7.24       3.70       rain   \n",
       "4      8.87   1015.91                 7.19       3.97       rain   \n",
       "\n",
       "                  icon  humidity        summary  \n",
       "0  partly-cloudy-night      0.94  Partly Cloudy  \n",
       "1  partly-cloudy-night      0.96  Partly Cloudy  \n",
       "2                  fog      0.96          Foggy  \n",
       "3                  fog      1.00          Foggy  \n",
       "4                  fog      0.97          Foggy  "
      ]
     },
     "execution_count": 13,
     "metadata": {},
     "output_type": "execute_result"
    }
   ],
   "source": [
    "perfect_forecasts.head()"
   ]
  },
  {
   "cell_type": "code",
   "execution_count": 14,
   "metadata": {
    "collapsed": false,
    "jupyter": {
     "outputs_hidden": false
    }
   },
   "outputs": [
    {
     "data": {
      "text/html": [
       "<div>\n",
       "<style scoped>\n",
       "    .dataframe tbody tr th:only-of-type {\n",
       "        vertical-align: middle;\n",
       "    }\n",
       "\n",
       "    .dataframe tbody tr th {\n",
       "        vertical-align: top;\n",
       "    }\n",
       "\n",
       "    .dataframe thead th {\n",
       "        text-align: right;\n",
       "    }\n",
       "</style>\n",
       "<table border=\"1\" class=\"dataframe\">\n",
       "  <thead>\n",
       "    <tr style=\"text-align: right;\">\n",
       "      <th></th>\n",
       "      <th>ds</th>\n",
       "      <th>cutoff_date</th>\n",
       "      <th>visibility</th>\n",
       "      <th>windBearing</th>\n",
       "      <th>temperature</th>\n",
       "      <th>dewPoint</th>\n",
       "      <th>pressure</th>\n",
       "      <th>apparentTemperature</th>\n",
       "      <th>windSpeed</th>\n",
       "      <th>precipType</th>\n",
       "      <th>icon</th>\n",
       "      <th>humidity</th>\n",
       "      <th>summary</th>\n",
       "    </tr>\n",
       "  </thead>\n",
       "  <tbody>\n",
       "    <tr>\n",
       "      <th>275823</th>\n",
       "      <td>2014-02-15 08:00:00</td>\n",
       "      <td>2014-02-08 12:00:00</td>\n",
       "      <td>12.38</td>\n",
       "      <td>227</td>\n",
       "      <td>8.63</td>\n",
       "      <td>2.36</td>\n",
       "      <td>985.19</td>\n",
       "      <td>4.02</td>\n",
       "      <td>11.73</td>\n",
       "      <td>rain</td>\n",
       "      <td>wind</td>\n",
       "      <td>0.65</td>\n",
       "      <td>Windy and Mostly Cloudy</td>\n",
       "    </tr>\n",
       "    <tr>\n",
       "      <th>275824</th>\n",
       "      <td>2014-02-15 09:00:00</td>\n",
       "      <td>2014-02-08 12:00:00</td>\n",
       "      <td>12.13</td>\n",
       "      <td>231</td>\n",
       "      <td>8.55</td>\n",
       "      <td>2.42</td>\n",
       "      <td>986.47</td>\n",
       "      <td>3.90</td>\n",
       "      <td>11.86</td>\n",
       "      <td>rain</td>\n",
       "      <td>wind</td>\n",
       "      <td>0.65</td>\n",
       "      <td>Windy and Mostly Cloudy</td>\n",
       "    </tr>\n",
       "    <tr>\n",
       "      <th>275825</th>\n",
       "      <td>2014-02-15 10:00:00</td>\n",
       "      <td>2014-02-08 12:00:00</td>\n",
       "      <td>12.13</td>\n",
       "      <td>230</td>\n",
       "      <td>9.44</td>\n",
       "      <td>3.17</td>\n",
       "      <td>987.14</td>\n",
       "      <td>5.12</td>\n",
       "      <td>11.79</td>\n",
       "      <td>rain</td>\n",
       "      <td>wind</td>\n",
       "      <td>0.65</td>\n",
       "      <td>Windy and Mostly Cloudy</td>\n",
       "    </tr>\n",
       "    <tr>\n",
       "      <th>275826</th>\n",
       "      <td>2014-02-15 11:00:00</td>\n",
       "      <td>2014-02-08 12:00:00</td>\n",
       "      <td>12.13</td>\n",
       "      <td>235</td>\n",
       "      <td>9.38</td>\n",
       "      <td>3.54</td>\n",
       "      <td>987.89</td>\n",
       "      <td>5.12</td>\n",
       "      <td>11.27</td>\n",
       "      <td>rain</td>\n",
       "      <td>wind</td>\n",
       "      <td>0.67</td>\n",
       "      <td>Windy and Mostly Cloudy</td>\n",
       "    </tr>\n",
       "    <tr>\n",
       "      <th>275827</th>\n",
       "      <td>2014-02-15 12:00:00</td>\n",
       "      <td>2014-02-08 12:00:00</td>\n",
       "      <td>12.13</td>\n",
       "      <td>234</td>\n",
       "      <td>9.90</td>\n",
       "      <td>3.15</td>\n",
       "      <td>988.56</td>\n",
       "      <td>5.79</td>\n",
       "      <td>11.43</td>\n",
       "      <td>rain</td>\n",
       "      <td>wind</td>\n",
       "      <td>0.63</td>\n",
       "      <td>Windy and Mostly Cloudy</td>\n",
       "    </tr>\n",
       "  </tbody>\n",
       "</table>\n",
       "</div>"
      ],
      "text/plain": [
       "                        ds         cutoff_date  visibility  windBearing  \\\n",
       "275823 2014-02-15 08:00:00 2014-02-08 12:00:00       12.38          227   \n",
       "275824 2014-02-15 09:00:00 2014-02-08 12:00:00       12.13          231   \n",
       "275825 2014-02-15 10:00:00 2014-02-08 12:00:00       12.13          230   \n",
       "275826 2014-02-15 11:00:00 2014-02-08 12:00:00       12.13          235   \n",
       "275827 2014-02-15 12:00:00 2014-02-08 12:00:00       12.13          234   \n",
       "\n",
       "        temperature  dewPoint  pressure  apparentTemperature  windSpeed  \\\n",
       "275823         8.63      2.36    985.19                 4.02      11.73   \n",
       "275824         8.55      2.42    986.47                 3.90      11.86   \n",
       "275825         9.44      3.17    987.14                 5.12      11.79   \n",
       "275826         9.38      3.54    987.89                 5.12      11.27   \n",
       "275827         9.90      3.15    988.56                 5.79      11.43   \n",
       "\n",
       "       precipType  icon  humidity                  summary  \n",
       "275823       rain  wind      0.65  Windy and Mostly Cloudy  \n",
       "275824       rain  wind      0.65  Windy and Mostly Cloudy  \n",
       "275825       rain  wind      0.65  Windy and Mostly Cloudy  \n",
       "275826       rain  wind      0.67  Windy and Mostly Cloudy  \n",
       "275827       rain  wind      0.63  Windy and Mostly Cloudy  "
      ]
     },
     "execution_count": 14,
     "metadata": {},
     "output_type": "execute_result"
    }
   ],
   "source": [
    "perfect_forecasts.tail()"
   ]
  },
  {
   "cell_type": "markdown",
   "metadata": {},
   "source": [
    "# Create Dataset"
   ]
  },
  {
   "cell_type": "code",
   "execution_count": 15,
   "metadata": {},
   "outputs": [],
   "source": [
    "from enfobench.evaluation import Dataset"
   ]
  },
  {
   "cell_type": "code",
   "execution_count": 16,
   "metadata": {},
   "outputs": [],
   "source": [
    "multivariate_dataset = Dataset(\n",
    "    target=data.value,  # as a pd.Series\n",
    "    covariates=covariates,  # as a pd.DataFrame\n",
    "    external_forecasts=None,  # as a pd.DataFrame\n",
    ")"
   ]
  },
  {
   "cell_type": "markdown",
   "metadata": {},
   "source": [
    "# Perform crossvalidation via server"
   ]
  },
  {
   "cell_type": "code",
   "execution_count": 17,
   "metadata": {},
   "outputs": [],
   "source": [
    "from enfobench.evaluation import ForecastClient, cross_validate"
   ]
  },
  {
   "cell_type": "code",
   "execution_count": 18,
   "metadata": {},
   "outputs": [],
   "source": [
    "client = ForecastClient()"
   ]
  },
  {
   "cell_type": "code",
   "execution_count": 19,
   "metadata": {},
   "outputs": [
    {
     "name": "stderr",
     "output_type": "stream",
     "text": [
      "100%|██████████████████████████████████████████████████████████████████████████████████████████████████████████████████████████████████████████████████████████████████████████████████████████████████████████████████████████████████████████████████████████████████████████████| 30/30 [00:18<00:00,  1.64it/s]\n"
     ]
    }
   ],
   "source": [
    "crossval_df = cross_validate(\n",
    "    client,\n",
    "    multivariate_dataset,\n",
    "    start_date=pd.Timestamp(\"2013-07-01T10:00:00\"),\n",
    "    end_date=pd.Timestamp(\"2013-08-01T00:00:00\"),\n",
    "    horizon=pd.Timedelta(\"38 hours\"), \n",
    "    step=pd.Timedelta(\"1 day\"), \n",
    ")"
   ]
  },
  {
   "cell_type": "code",
   "execution_count": 20,
   "metadata": {},
   "outputs": [
    {
     "data": {
      "text/html": [
       "<div>\n",
       "<style scoped>\n",
       "    .dataframe tbody tr th:only-of-type {\n",
       "        vertical-align: middle;\n",
       "    }\n",
       "\n",
       "    .dataframe tbody tr th {\n",
       "        vertical-align: top;\n",
       "    }\n",
       "\n",
       "    .dataframe thead th {\n",
       "        text-align: right;\n",
       "    }\n",
       "</style>\n",
       "<table border=\"1\" class=\"dataframe\">\n",
       "  <thead>\n",
       "    <tr style=\"text-align: right;\">\n",
       "      <th></th>\n",
       "      <th>ds</th>\n",
       "      <th>yhat</th>\n",
       "      <th>cutoff_date</th>\n",
       "    </tr>\n",
       "  </thead>\n",
       "  <tbody>\n",
       "    <tr>\n",
       "      <th>0</th>\n",
       "      <td>2013-07-01 10:30:00</td>\n",
       "      <td>928.0</td>\n",
       "      <td>2013-07-01 10:00:00</td>\n",
       "    </tr>\n",
       "    <tr>\n",
       "      <th>1</th>\n",
       "      <td>2013-07-01 11:00:00</td>\n",
       "      <td>963.0</td>\n",
       "      <td>2013-07-01 10:00:00</td>\n",
       "    </tr>\n",
       "    <tr>\n",
       "      <th>2</th>\n",
       "      <td>2013-07-01 11:30:00</td>\n",
       "      <td>1574.0</td>\n",
       "      <td>2013-07-01 10:00:00</td>\n",
       "    </tr>\n",
       "    <tr>\n",
       "      <th>3</th>\n",
       "      <td>2013-07-01 12:00:00</td>\n",
       "      <td>1021.0</td>\n",
       "      <td>2013-07-01 10:00:00</td>\n",
       "    </tr>\n",
       "    <tr>\n",
       "      <th>4</th>\n",
       "      <td>2013-07-01 12:30:00</td>\n",
       "      <td>988.5</td>\n",
       "      <td>2013-07-01 10:00:00</td>\n",
       "    </tr>\n",
       "  </tbody>\n",
       "</table>\n",
       "</div>"
      ],
      "text/plain": [
       "                   ds    yhat         cutoff_date\n",
       "0 2013-07-01 10:30:00   928.0 2013-07-01 10:00:00\n",
       "1 2013-07-01 11:00:00   963.0 2013-07-01 10:00:00\n",
       "2 2013-07-01 11:30:00  1574.0 2013-07-01 10:00:00\n",
       "3 2013-07-01 12:00:00  1021.0 2013-07-01 10:00:00\n",
       "4 2013-07-01 12:30:00   988.5 2013-07-01 10:00:00"
      ]
     },
     "execution_count": 20,
     "metadata": {},
     "output_type": "execute_result"
    }
   ],
   "source": [
    "crossval_df.head()"
   ]
  },
  {
   "cell_type": "markdown",
   "metadata": {},
   "source": [
    "# Evaluate metrics"
   ]
  },
  {
   "cell_type": "code",
   "execution_count": 26,
   "metadata": {},
   "outputs": [],
   "source": [
    "from enfobench.evaluation import evaluate_metrics_on_forecasts\n",
    "from enfobench.evaluation.metrics import mean_absolute_error, mean_bias_error"
   ]
  },
  {
   "cell_type": "code",
   "execution_count": 27,
   "metadata": {},
   "outputs": [],
   "source": [
    "# Merge the target values with your predictions\n",
    "forecasts = crossval_df.merge(multivariate_dataset.target, on=\"ds\", how=\"left\")"
   ]
  },
  {
   "cell_type": "code",
   "execution_count": 28,
   "metadata": {},
   "outputs": [
    {
     "data": {
      "text/html": [
       "<div>\n",
       "<style scoped>\n",
       "    .dataframe tbody tr th:only-of-type {\n",
       "        vertical-align: middle;\n",
       "    }\n",
       "\n",
       "    .dataframe tbody tr th {\n",
       "        vertical-align: top;\n",
       "    }\n",
       "\n",
       "    .dataframe thead th {\n",
       "        text-align: right;\n",
       "    }\n",
       "</style>\n",
       "<table border=\"1\" class=\"dataframe\">\n",
       "  <thead>\n",
       "    <tr style=\"text-align: right;\">\n",
       "      <th></th>\n",
       "      <th>ds</th>\n",
       "      <th>yhat</th>\n",
       "      <th>cutoff_date</th>\n",
       "      <th>y</th>\n",
       "    </tr>\n",
       "  </thead>\n",
       "  <tbody>\n",
       "    <tr>\n",
       "      <th>0</th>\n",
       "      <td>2013-07-01 10:30:00</td>\n",
       "      <td>928.0</td>\n",
       "      <td>2013-07-01 10:00:00</td>\n",
       "      <td>590.0</td>\n",
       "    </tr>\n",
       "    <tr>\n",
       "      <th>1</th>\n",
       "      <td>2013-07-01 11:00:00</td>\n",
       "      <td>963.0</td>\n",
       "      <td>2013-07-01 10:00:00</td>\n",
       "      <td>618.0</td>\n",
       "    </tr>\n",
       "    <tr>\n",
       "      <th>2</th>\n",
       "      <td>2013-07-01 11:30:00</td>\n",
       "      <td>1574.0</td>\n",
       "      <td>2013-07-01 10:00:00</td>\n",
       "      <td>704.0</td>\n",
       "    </tr>\n",
       "    <tr>\n",
       "      <th>3</th>\n",
       "      <td>2013-07-01 12:00:00</td>\n",
       "      <td>1021.0</td>\n",
       "      <td>2013-07-01 10:00:00</td>\n",
       "      <td>698.0</td>\n",
       "    </tr>\n",
       "    <tr>\n",
       "      <th>4</th>\n",
       "      <td>2013-07-01 12:30:00</td>\n",
       "      <td>988.5</td>\n",
       "      <td>2013-07-01 10:00:00</td>\n",
       "      <td>644.0</td>\n",
       "    </tr>\n",
       "  </tbody>\n",
       "</table>\n",
       "</div>"
      ],
      "text/plain": [
       "                   ds    yhat         cutoff_date      y\n",
       "0 2013-07-01 10:30:00   928.0 2013-07-01 10:00:00  590.0\n",
       "1 2013-07-01 11:00:00   963.0 2013-07-01 10:00:00  618.0\n",
       "2 2013-07-01 11:30:00  1574.0 2013-07-01 10:00:00  704.0\n",
       "3 2013-07-01 12:00:00  1021.0 2013-07-01 10:00:00  698.0\n",
       "4 2013-07-01 12:30:00   988.5 2013-07-01 10:00:00  644.0"
      ]
     },
     "execution_count": 28,
     "metadata": {},
     "output_type": "execute_result"
    }
   ],
   "source": [
    "forecasts.head()"
   ]
  },
  {
   "cell_type": "code",
   "execution_count": 29,
   "metadata": {},
   "outputs": [],
   "source": [
    "metrics = evaluate_metrics_on_forecasts(\n",
    "    forecasts,\n",
    "    metrics={\n",
    "        \"MAE\": mean_absolute_error,\n",
    "        \"MBE\": mean_bias_error\n",
    "    }\n",
    ")"
   ]
  },
  {
   "cell_type": "code",
   "execution_count": 30,
   "metadata": {},
   "outputs": [
    {
     "data": {
      "text/plain": [
       "<Axes: >"
      ]
     },
     "execution_count": 30,
     "metadata": {},
     "output_type": "execute_result"
    },
    {
     "data": {
      "image/png": "[encoded data removed]",
      "text/plain": [
       "<Figure size 640x480 with 1 Axes>"
      ]
     },
     "metadata": {},
     "output_type": "display_data"
    }
   ],
   "source": [
    "metrics.plot()"
   ]
  },
  {
   "cell_type": "code",
   "execution_count": null,
   "metadata": {},
   "outputs": [],
   "source": []
  }
 ],
 "metadata": {
  "kernelspec": {
   "display_name": "Python 3 (ipykernel)",
   "language": "python",
   "name": "python3"
  },
  "language_info": {
   "codemirror_mode": {
    "name": "ipython",
    "version": 3
   },
   "file_extension": ".py",
   "mimetype": "text/x-python",
   "name": "python",
   "nbconvert_exporter": "python",
   "pygments_lexer": "ipython3",
   "version": "3.10.9"
  }
 },
 "nbformat": 4,
 "nbformat_minor": 4
}
