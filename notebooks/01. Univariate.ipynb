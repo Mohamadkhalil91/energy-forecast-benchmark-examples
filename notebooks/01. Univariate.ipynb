{
 "cells": [
  {
   "cell_type": "code",
   "execution_count": 1,
   "outputs": [],
   "source": [
    "import os\n",
    "os.chdir('..')"
   ],
   "metadata": {
    "collapsed": false,
    "ExecuteTime": {
     "end_time": "2023-11-23T09:30:17.873633Z",
     "start_time": "2023-11-23T09:30:17.344641Z"
    }
   }
  },
  {
   "cell_type": "code",
   "execution_count": 2,
   "outputs": [],
   "source": [
    "import numpy as np\n",
    "import pandas as pd"
   ],
   "metadata": {
    "collapsed": false,
    "ExecuteTime": {
     "end_time": "2023-11-23T09:30:20.610412Z",
     "start_time": "2023-11-23T09:30:17.379118Z"
    }
   }
  },
  {
   "cell_type": "markdown",
   "source": [
    "# Load Data"
   ],
   "metadata": {
    "collapsed": false
   }
  },
  {
   "cell_type": "code",
   "execution_count": 3,
   "outputs": [],
   "source": [
    "from enfobench.dataset import DemandDataset\n",
    "\n",
    "ds = DemandDataset(\"data\")"
   ],
   "metadata": {
    "collapsed": false,
    "ExecuteTime": {
     "end_time": "2023-11-23T09:30:25.480970Z",
     "start_time": "2023-11-23T09:30:20.613798Z"
    }
   }
  },
  {
   "cell_type": "code",
   "execution_count": 4,
   "outputs": [],
   "source": [
    "unique_ids = ds.metadata_subset.list_unique_ids()"
   ],
   "metadata": {
    "collapsed": false,
    "ExecuteTime": {
     "end_time": "2023-11-23T09:30:25.523768Z",
     "start_time": "2023-11-23T09:30:25.429568Z"
    }
   }
  },
  {
   "cell_type": "code",
   "execution_count": 5,
   "outputs": [
    {
     "data": {
      "text/plain": "100"
     },
     "execution_count": 5,
     "metadata": {},
     "output_type": "execute_result"
    }
   ],
   "source": [
    "len(unique_ids)"
   ],
   "metadata": {
    "collapsed": false,
    "ExecuteTime": {
     "end_time": "2023-11-23T09:30:25.629057Z",
     "start_time": "2023-11-23T09:30:25.528623Z"
    }
   }
  },
  {
   "cell_type": "code",
   "execution_count": 6,
   "outputs": [
    {
     "data": {
      "text/plain": "'70aec446c47486f3'"
     },
     "execution_count": 6,
     "metadata": {},
     "output_type": "execute_result"
    }
   ],
   "source": [
    "unique_id = unique_ids[0]\n",
    "unique_id"
   ],
   "metadata": {
    "collapsed": false,
    "ExecuteTime": {
     "end_time": "2023-11-23T09:30:25.632401Z",
     "start_time": "2023-11-23T09:30:25.561377Z"
    }
   }
  },
  {
   "cell_type": "code",
   "execution_count": 7,
   "outputs": [],
   "source": [
    "target, _, metadata = ds.get_data_by_unique_id(unique_id)"
   ],
   "metadata": {
    "collapsed": false,
    "ExecuteTime": {
     "end_time": "2023-11-23T09:30:26.159010Z",
     "start_time": "2023-11-23T09:30:25.593895Z"
    }
   }
  },
  {
   "cell_type": "code",
   "execution_count": 8,
   "outputs": [
    {
     "name": "stdout",
     "output_type": "stream",
     "text": [
      "<class 'pandas.core.frame.DataFrame'>\n",
      "DatetimeIndex: 24320 entries, 2012-10-09 08:30:00 to 2014-02-28 00:00:00\n",
      "Data columns (total 1 columns):\n",
      " #   Column  Non-Null Count  Dtype  \n",
      "---  ------  --------------  -----  \n",
      " 0   y       24317 non-null  float64\n",
      "dtypes: float64(1)\n",
      "memory usage: 380.0 KB\n"
     ]
    }
   ],
   "source": [
    "target.info()"
   ],
   "metadata": {
    "collapsed": false,
    "ExecuteTime": {
     "end_time": "2023-11-23T09:30:26.206592Z",
     "start_time": "2023-11-23T09:30:25.951941Z"
    }
   }
  },
  {
   "cell_type": "markdown",
   "source": [
    "# Make external forecasts based on covariates"
   ],
   "metadata": {
    "collapsed": false
   }
  },
  {
   "cell_type": "markdown",
   "source": [
    "# Create Dataset"
   ],
   "metadata": {
    "collapsed": false
   }
  },
  {
   "cell_type": "code",
   "execution_count": 9,
   "outputs": [],
   "source": [
    "from enfobench.dataset import Dataset\n",
    "\n",
    "univariate_dataset = Dataset(\n",
    "    target=target.loc[\"2012-01-01\":\"2013-12-31\"],\n",
    "    past_covariates=None,\n",
    "    future_covariates=None,\n",
    "    metadata=metadata\n",
    ")"
   ],
   "metadata": {
    "collapsed": false,
    "ExecuteTime": {
     "end_time": "2023-11-23T09:30:26.207566Z",
     "start_time": "2023-11-23T09:30:26.010587Z"
    }
   }
  },
  {
   "cell_type": "markdown",
   "metadata": {},
   "source": [
    "# Create Model"
   ]
  },
  {
   "cell_type": "code",
   "execution_count": 10,
   "metadata": {
    "ExecuteTime": {
     "end_time": "2023-11-23T09:30:26.208408Z",
     "start_time": "2023-11-23T09:30:26.062177Z"
    }
   },
   "outputs": [],
   "source": [
    "from enfobench.evaluation import AuthorInfo, ModelInfo, ForecasterType\n",
    "from enfobench.evaluation.utils import create_forecast_index\n",
    "\n",
    "class ExampleModel:\n",
    "    \n",
    "    def __init__(self, param1: int):\n",
    "        self.param1 = param1\n",
    "\n",
    "    def info(self):\n",
    "        return ModelInfo(\n",
    "            name=\"TestModel\",\n",
    "            authors=[\n",
    "                AuthorInfo(name=\"Attila Balint\")\n",
    "            ],\n",
    "            type=ForecasterType.point,\n",
    "            params={\n",
    "                \"param1\": 1,\n",
    "            },\n",
    "        )\n",
    "\n",
    "    def forecast(\n",
    "        self,\n",
    "        horizon: int,\n",
    "        history: pd.DataFrame,\n",
    "        past_covariates=None,\n",
    "        future_covariates=None,\n",
    "        level=None,\n",
    "        **kwargs,\n",
    "    ):\n",
    "        index = create_forecast_index(history, horizon)\n",
    "        return pd.DataFrame(\n",
    "            index=index,\n",
    "            data={\n",
    "                \"yhat\": np.full(horizon, fill_value=history[\"y\"].mean()) + self.param1,\n",
    "            }\n",
    "        )"
   ]
  },
  {
   "cell_type": "code",
   "execution_count": 11,
   "outputs": [],
   "source": [
    "model = ExampleModel(1)"
   ],
   "metadata": {
    "collapsed": false,
    "ExecuteTime": {
     "end_time": "2023-11-23T09:30:26.209232Z",
     "start_time": "2023-11-23T09:30:26.084701Z"
    }
   }
  },
  {
   "cell_type": "markdown",
   "metadata": {},
   "source": [
    "# Perform crossvalidation on your model locally"
   ]
  },
  {
   "cell_type": "code",
   "execution_count": 18,
   "metadata": {
    "ExecuteTime": {
     "end_time": "2023-11-23T09:31:14.203651Z",
     "start_time": "2023-11-23T09:31:13.516118Z"
    }
   },
   "outputs": [
    {
     "name": "stderr",
     "output_type": "stream",
     "text": [
      "100%|██████████| 30/30 [00:00<00:00, 53.29it/s]\n"
     ]
    }
   ],
   "source": [
    "from enfobench.evaluation import cross_validate\n",
    "\n",
    "crossval_df = cross_validate(\n",
    "    model, \n",
    "    univariate_dataset,\n",
    "    start_date=pd.Timestamp(\"2013-01-01T00:00:00\"),\n",
    "    end_date=pd.Timestamp(\"2013-02-01T00:00:00\"),\n",
    "    horizon=pd.Timedelta(\"38 hours\"), \n",
    "    step=pd.Timedelta(\"1 day\"), \n",
    ")"
   ]
  },
  {
   "cell_type": "code",
   "execution_count": 19,
   "metadata": {
    "ExecuteTime": {
     "end_time": "2023-11-23T09:31:14.312821Z",
     "start_time": "2023-11-23T09:31:14.219138Z"
    }
   },
   "outputs": [
    {
     "data": {
      "text/plain": "  cutoff_date           timestamp      yhat      y\n0  2013-01-01 2013-01-01 00:30:00  1.164622  0.303\n1  2013-01-01 2013-01-01 01:00:00  1.164622  0.085\n2  2013-01-01 2013-01-01 01:30:00  1.164622  0.270\n3  2013-01-01 2013-01-01 02:00:00  1.164622  0.084\n4  2013-01-01 2013-01-01 02:30:00  1.164622  0.184",
      "text/html": "<div>\n<style scoped>\n    .dataframe tbody tr th:only-of-type {\n        vertical-align: middle;\n    }\n\n    .dataframe tbody tr th {\n        vertical-align: top;\n    }\n\n    .dataframe thead th {\n        text-align: right;\n    }\n</style>\n<table border=\"1\" class=\"dataframe\">\n  <thead>\n    <tr style=\"text-align: right;\">\n      <th></th>\n      <th>cutoff_date</th>\n      <th>timestamp</th>\n      <th>yhat</th>\n      <th>y</th>\n    </tr>\n  </thead>\n  <tbody>\n    <tr>\n      <th>0</th>\n      <td>2013-01-01</td>\n      <td>2013-01-01 00:30:00</td>\n      <td>1.164622</td>\n      <td>0.303</td>\n    </tr>\n    <tr>\n      <th>1</th>\n      <td>2013-01-01</td>\n      <td>2013-01-01 01:00:00</td>\n      <td>1.164622</td>\n      <td>0.085</td>\n    </tr>\n    <tr>\n      <th>2</th>\n      <td>2013-01-01</td>\n      <td>2013-01-01 01:30:00</td>\n      <td>1.164622</td>\n      <td>0.270</td>\n    </tr>\n    <tr>\n      <th>3</th>\n      <td>2013-01-01</td>\n      <td>2013-01-01 02:00:00</td>\n      <td>1.164622</td>\n      <td>0.084</td>\n    </tr>\n    <tr>\n      <th>4</th>\n      <td>2013-01-01</td>\n      <td>2013-01-01 02:30:00</td>\n      <td>1.164622</td>\n      <td>0.184</td>\n    </tr>\n  </tbody>\n</table>\n</div>"
     },
     "execution_count": 19,
     "metadata": {},
     "output_type": "execute_result"
    }
   ],
   "source": [
    "crossval_df.head()"
   ]
  },
  {
   "cell_type": "markdown",
   "metadata": {},
   "source": [
    "# Evaluate metrics"
   ]
  },
  {
   "cell_type": "code",
   "execution_count": 20,
   "metadata": {
    "ExecuteTime": {
     "end_time": "2023-11-23T09:31:16.423360Z",
     "start_time": "2023-11-23T09:31:16.314604Z"
    }
   },
   "outputs": [],
   "source": [
    "from enfobench.evaluation import evaluate_metrics\n",
    "from enfobench.evaluation.metrics import mean_absolute_error, mean_bias_error"
   ]
  },
  {
   "cell_type": "code",
   "execution_count": 21,
   "outputs": [
    {
     "data": {
      "text/plain": "        MAE       MBE  weight\n0  1.009067  1.008643     1.0",
      "text/html": "<div>\n<style scoped>\n    .dataframe tbody tr th:only-of-type {\n        vertical-align: middle;\n    }\n\n    .dataframe tbody tr th {\n        vertical-align: top;\n    }\n\n    .dataframe thead th {\n        text-align: right;\n    }\n</style>\n<table border=\"1\" class=\"dataframe\">\n  <thead>\n    <tr style=\"text-align: right;\">\n      <th></th>\n      <th>MAE</th>\n      <th>MBE</th>\n      <th>weight</th>\n    </tr>\n  </thead>\n  <tbody>\n    <tr>\n      <th>0</th>\n      <td>1.009067</td>\n      <td>1.008643</td>\n      <td>1.0</td>\n    </tr>\n  </tbody>\n</table>\n</div>"
     },
     "execution_count": 21,
     "metadata": {},
     "output_type": "execute_result"
    }
   ],
   "source": [
    "evaluate_metrics(\n",
    "    crossval_df,\n",
    "    metrics={\n",
    "        \"MAE\": mean_absolute_error,\n",
    "        \"MBE\": mean_bias_error\n",
    "    }\n",
    ")"
   ],
   "metadata": {
    "collapsed": false,
    "ExecuteTime": {
     "end_time": "2023-11-23T09:31:17.752488Z",
     "start_time": "2023-11-23T09:31:17.599371Z"
    }
   }
  },
  {
   "cell_type": "code",
   "execution_count": 22,
   "metadata": {
    "ExecuteTime": {
     "end_time": "2023-11-23T09:31:22.566944Z",
     "start_time": "2023-11-23T09:31:21.551614Z"
    }
   },
   "outputs": [
    {
     "name": "stderr",
     "output_type": "stream",
     "text": [
      "100%|██████████| 30/30 [00:00<00:00, 46.45it/s]\n"
     ]
    },
    {
     "data": {
      "text/plain": "   cutoff_date       MAE       MBE  weight\n0   2013-01-01  0.961201  0.961201     1.0\n1   2013-01-02  0.942087  0.941597     1.0\n2   2013-01-03  0.943087  0.942621     1.0\n3   2013-01-04  0.999754  0.999754     1.0\n4   2013-01-05  0.985921  0.976416     1.0\n5   2013-01-06  1.019952  1.019952     1.0\n6   2013-01-07  1.054776  1.054776     1.0\n7   2013-01-08  1.025911  1.023660     1.0\n8   2013-01-09  1.053617  1.053617     1.0\n9   2013-01-10  1.012036  1.012036     1.0\n10  2013-01-11  0.988310  0.988310     1.0\n11  2013-01-12  0.984110  0.984110     1.0\n12  2013-01-13  0.980007  0.980007     1.0\n13  2013-01-14  1.023716  1.023716     1.0\n14  2013-01-15  1.028216  1.028216     1.0\n15  2013-01-16  0.992922  0.992922     1.0\n16  2013-01-17  1.000755  1.000755     1.0\n17  2013-01-18  1.009363  1.009363     1.0\n18  2013-01-19  1.025783  1.025783     1.0\n19  2013-01-20  1.007544  1.007544     1.0\n20  2013-01-21  1.024339  1.024339     1.0\n21  2013-01-22  1.019156  1.019156     1.0\n22  2013-01-23  1.025756  1.025756     1.0\n23  2013-01-24  1.055964  1.055964     1.0\n24  2013-01-25  0.989768  0.989768     1.0\n25  2013-01-26  0.997766  0.997766     1.0\n26  2013-01-27  1.011640  1.011640     1.0\n27  2013-01-28  1.035257  1.035257     1.0\n28  2013-01-29  1.045862  1.045862     1.0\n29  2013-01-30  1.027431  1.027431     1.0",
      "text/html": "<div>\n<style scoped>\n    .dataframe tbody tr th:only-of-type {\n        vertical-align: middle;\n    }\n\n    .dataframe tbody tr th {\n        vertical-align: top;\n    }\n\n    .dataframe thead th {\n        text-align: right;\n    }\n</style>\n<table border=\"1\" class=\"dataframe\">\n  <thead>\n    <tr style=\"text-align: right;\">\n      <th></th>\n      <th>cutoff_date</th>\n      <th>MAE</th>\n      <th>MBE</th>\n      <th>weight</th>\n    </tr>\n  </thead>\n  <tbody>\n    <tr>\n      <th>0</th>\n      <td>2013-01-01</td>\n      <td>0.961201</td>\n      <td>0.961201</td>\n      <td>1.0</td>\n    </tr>\n    <tr>\n      <th>1</th>\n      <td>2013-01-02</td>\n      <td>0.942087</td>\n      <td>0.941597</td>\n      <td>1.0</td>\n    </tr>\n    <tr>\n      <th>2</th>\n      <td>2013-01-03</td>\n      <td>0.943087</td>\n      <td>0.942621</td>\n      <td>1.0</td>\n    </tr>\n    <tr>\n      <th>3</th>\n      <td>2013-01-04</td>\n      <td>0.999754</td>\n      <td>0.999754</td>\n      <td>1.0</td>\n    </tr>\n    <tr>\n      <th>4</th>\n      <td>2013-01-05</td>\n      <td>0.985921</td>\n      <td>0.976416</td>\n      <td>1.0</td>\n    </tr>\n    <tr>\n      <th>5</th>\n      <td>2013-01-06</td>\n      <td>1.019952</td>\n      <td>1.019952</td>\n      <td>1.0</td>\n    </tr>\n    <tr>\n      <th>6</th>\n      <td>2013-01-07</td>\n      <td>1.054776</td>\n      <td>1.054776</td>\n      <td>1.0</td>\n    </tr>\n    <tr>\n      <th>7</th>\n      <td>2013-01-08</td>\n      <td>1.025911</td>\n      <td>1.023660</td>\n      <td>1.0</td>\n    </tr>\n    <tr>\n      <th>8</th>\n      <td>2013-01-09</td>\n      <td>1.053617</td>\n      <td>1.053617</td>\n      <td>1.0</td>\n    </tr>\n    <tr>\n      <th>9</th>\n      <td>2013-01-10</td>\n      <td>1.012036</td>\n      <td>1.012036</td>\n      <td>1.0</td>\n    </tr>\n    <tr>\n      <th>10</th>\n      <td>2013-01-11</td>\n      <td>0.988310</td>\n      <td>0.988310</td>\n      <td>1.0</td>\n    </tr>\n    <tr>\n      <th>11</th>\n      <td>2013-01-12</td>\n      <td>0.984110</td>\n      <td>0.984110</td>\n      <td>1.0</td>\n    </tr>\n    <tr>\n      <th>12</th>\n      <td>2013-01-13</td>\n      <td>0.980007</td>\n      <td>0.980007</td>\n      <td>1.0</td>\n    </tr>\n    <tr>\n      <th>13</th>\n      <td>2013-01-14</td>\n      <td>1.023716</td>\n      <td>1.023716</td>\n      <td>1.0</td>\n    </tr>\n    <tr>\n      <th>14</th>\n      <td>2013-01-15</td>\n      <td>1.028216</td>\n      <td>1.028216</td>\n      <td>1.0</td>\n    </tr>\n    <tr>\n      <th>15</th>\n      <td>2013-01-16</td>\n      <td>0.992922</td>\n      <td>0.992922</td>\n      <td>1.0</td>\n    </tr>\n    <tr>\n      <th>16</th>\n      <td>2013-01-17</td>\n      <td>1.000755</td>\n      <td>1.000755</td>\n      <td>1.0</td>\n    </tr>\n    <tr>\n      <th>17</th>\n      <td>2013-01-18</td>\n      <td>1.009363</td>\n      <td>1.009363</td>\n      <td>1.0</td>\n    </tr>\n    <tr>\n      <th>18</th>\n      <td>2013-01-19</td>\n      <td>1.025783</td>\n      <td>1.025783</td>\n      <td>1.0</td>\n    </tr>\n    <tr>\n      <th>19</th>\n      <td>2013-01-20</td>\n      <td>1.007544</td>\n      <td>1.007544</td>\n      <td>1.0</td>\n    </tr>\n    <tr>\n      <th>20</th>\n      <td>2013-01-21</td>\n      <td>1.024339</td>\n      <td>1.024339</td>\n      <td>1.0</td>\n    </tr>\n    <tr>\n      <th>21</th>\n      <td>2013-01-22</td>\n      <td>1.019156</td>\n      <td>1.019156</td>\n      <td>1.0</td>\n    </tr>\n    <tr>\n      <th>22</th>\n      <td>2013-01-23</td>\n      <td>1.025756</td>\n      <td>1.025756</td>\n      <td>1.0</td>\n    </tr>\n    <tr>\n      <th>23</th>\n      <td>2013-01-24</td>\n      <td>1.055964</td>\n      <td>1.055964</td>\n      <td>1.0</td>\n    </tr>\n    <tr>\n      <th>24</th>\n      <td>2013-01-25</td>\n      <td>0.989768</td>\n      <td>0.989768</td>\n      <td>1.0</td>\n    </tr>\n    <tr>\n      <th>25</th>\n      <td>2013-01-26</td>\n      <td>0.997766</td>\n      <td>0.997766</td>\n      <td>1.0</td>\n    </tr>\n    <tr>\n      <th>26</th>\n      <td>2013-01-27</td>\n      <td>1.011640</td>\n      <td>1.011640</td>\n      <td>1.0</td>\n    </tr>\n    <tr>\n      <th>27</th>\n      <td>2013-01-28</td>\n      <td>1.035257</td>\n      <td>1.035257</td>\n      <td>1.0</td>\n    </tr>\n    <tr>\n      <th>28</th>\n      <td>2013-01-29</td>\n      <td>1.045862</td>\n      <td>1.045862</td>\n      <td>1.0</td>\n    </tr>\n    <tr>\n      <th>29</th>\n      <td>2013-01-30</td>\n      <td>1.027431</td>\n      <td>1.027431</td>\n      <td>1.0</td>\n    </tr>\n  </tbody>\n</table>\n</div>"
     },
     "execution_count": 22,
     "metadata": {},
     "output_type": "execute_result"
    }
   ],
   "source": [
    "metrics = evaluate_metrics(\n",
    "    crossval_df,\n",
    "    metrics={\n",
    "        \"MAE\": mean_absolute_error,\n",
    "        \"MBE\": mean_bias_error\n",
    "    },\n",
    "    groupby=\"cutoff_date\",\n",
    ")\n",
    "metrics"
   ]
  },
  {
   "cell_type": "code",
   "execution_count": 23,
   "metadata": {
    "ExecuteTime": {
     "end_time": "2023-11-23T09:31:25.322058Z",
     "start_time": "2023-11-23T09:31:24.157933Z"
    }
   },
   "outputs": [
    {
     "data": {
      "text/plain": "<Axes: >"
     },
     "execution_count": 23,
     "metadata": {},
     "output_type": "execute_result"
    },
    {
     "data": {
      "text/plain": "<Figure size 640x480 with 1 Axes>",
      "image/png": "[encoded data removed]"
     },
     "metadata": {},
     "output_type": "display_data"
    }
   ],
   "source": [
    "metrics[['MAE', 'MBE']].plot()"
   ]
  },
  {
   "cell_type": "code",
   "execution_count": 16,
   "metadata": {
    "ExecuteTime": {
     "end_time": "2023-11-16T14:59:06.545700Z",
     "start_time": "2023-11-16T14:59:06.534008Z"
    }
   },
   "outputs": [],
   "source": []
  }
 ],
 "metadata": {
  "kernelspec": {
   "display_name": "Python 3 (ipykernel)",
   "language": "python",
   "name": "python3"
  },
  "language_info": {
   "codemirror_mode": {
    "name": "ipython",
    "version": 3
   },
   "file_extension": ".py",
   "mimetype": "text/x-python",
   "name": "python",
   "nbconvert_exporter": "python",
   "pygments_lexer": "ipython3",
   "version": "3.10.9"
  }
 },
 "nbformat": 4,
 "nbformat_minor": 4
}
