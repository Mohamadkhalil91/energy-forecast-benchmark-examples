{
 "cells": [
  {
   "cell_type": "code",
   "execution_count": 1,
   "outputs": [],
   "source": [
    "import os\n",
    "os.chdir('..')"
   ],
   "metadata": {
    "collapsed": false,
    "ExecuteTime": {
     "end_time": "2023-11-16T14:59:03.837007Z",
     "start_time": "2023-11-16T14:59:03.630014Z"
    }
   }
  },
  {
   "cell_type": "code",
   "execution_count": 2,
   "outputs": [],
   "source": [
    "import numpy as np\n",
    "import pandas as pd"
   ],
   "metadata": {
    "collapsed": false,
    "ExecuteTime": {
     "end_time": "2023-11-16T14:59:04.128464Z",
     "start_time": "2023-11-16T14:59:03.636720Z"
    }
   }
  },
  {
   "cell_type": "markdown",
   "source": [
    "# Load Data"
   ],
   "metadata": {
    "collapsed": false
   }
  },
  {
   "cell_type": "code",
   "execution_count": 3,
   "outputs": [],
   "source": [
    "from enfobench.dataset import DemandDataset\n",
    "\n",
    "ds = DemandDataset(\"data\")"
   ],
   "metadata": {
    "collapsed": false,
    "ExecuteTime": {
     "end_time": "2023-11-16T14:59:05.031709Z",
     "start_time": "2023-11-16T14:59:04.129338Z"
    }
   }
  },
  {
   "cell_type": "code",
   "execution_count": 4,
   "outputs": [],
   "source": [
    "unique_ids = ds.metadata_subset.list_unique_ids()"
   ],
   "metadata": {
    "collapsed": false,
    "ExecuteTime": {
     "end_time": "2023-11-16T14:59:05.046171Z",
     "start_time": "2023-11-16T14:59:05.032367Z"
    }
   }
  },
  {
   "cell_type": "code",
   "execution_count": 5,
   "outputs": [
    {
     "data": {
      "text/plain": "100"
     },
     "execution_count": 5,
     "metadata": {},
     "output_type": "execute_result"
    }
   ],
   "source": [
    "len(unique_ids)"
   ],
   "metadata": {
    "collapsed": false,
    "ExecuteTime": {
     "end_time": "2023-11-16T14:59:05.078450Z",
     "start_time": "2023-11-16T14:59:05.052346Z"
    }
   }
  },
  {
   "cell_type": "code",
   "execution_count": 6,
   "outputs": [
    {
     "data": {
      "text/plain": "'70aec446c47486f3'"
     },
     "execution_count": 6,
     "metadata": {},
     "output_type": "execute_result"
    }
   ],
   "source": [
    "unique_id = unique_ids[0]\n",
    "unique_id"
   ],
   "metadata": {
    "collapsed": false,
    "ExecuteTime": {
     "end_time": "2023-11-16T14:59:05.089224Z",
     "start_time": "2023-11-16T14:59:05.058075Z"
    }
   }
  },
  {
   "cell_type": "code",
   "execution_count": 7,
   "outputs": [],
   "source": [
    "target, _, metadata = ds.get_data_by_unique_id(unique_id)"
   ],
   "metadata": {
    "collapsed": false,
    "ExecuteTime": {
     "end_time": "2023-11-16T14:59:05.145854Z",
     "start_time": "2023-11-16T14:59:05.064463Z"
    }
   }
  },
  {
   "cell_type": "code",
   "execution_count": 8,
   "outputs": [
    {
     "name": "stdout",
     "output_type": "stream",
     "text": [
      "<class 'pandas.core.frame.DataFrame'>\n",
      "DatetimeIndex: 24320 entries, 2012-10-09 08:30:00 to 2014-02-28 00:00:00\n",
      "Data columns (total 1 columns):\n",
      " #   Column  Non-Null Count  Dtype  \n",
      "---  ------  --------------  -----  \n",
      " 0   y       24317 non-null  float64\n",
      "dtypes: float64(1)\n",
      "memory usage: 380.0 KB\n"
     ]
    }
   ],
   "source": [
    "target.info()"
   ],
   "metadata": {
    "collapsed": false,
    "ExecuteTime": {
     "end_time": "2023-11-16T14:59:05.158053Z",
     "start_time": "2023-11-16T14:59:05.147725Z"
    }
   }
  },
  {
   "cell_type": "markdown",
   "source": [
    "# Make external forecasts based on covariates"
   ],
   "metadata": {
    "collapsed": false
   }
  },
  {
   "cell_type": "markdown",
   "source": [
    "# Create Dataset"
   ],
   "metadata": {
    "collapsed": false
   }
  },
  {
   "cell_type": "code",
   "execution_count": 9,
   "outputs": [],
   "source": [
    "from enfobench.dataset import Dataset\n",
    "\n",
    "univariate_dataset = Dataset(\n",
    "    target=target.loc[\"2012-01-01\":\"2013-12-31\"],\n",
    "    past_covariates=None,\n",
    "    future_covariates=None,\n",
    "    metadata=metadata\n",
    ")"
   ],
   "metadata": {
    "collapsed": false,
    "ExecuteTime": {
     "end_time": "2023-11-16T14:59:05.171032Z",
     "start_time": "2023-11-16T14:59:05.158568Z"
    }
   }
  },
  {
   "cell_type": "markdown",
   "metadata": {},
   "source": [
    "# Create Model"
   ]
  },
  {
   "cell_type": "code",
   "execution_count": 10,
   "metadata": {
    "ExecuteTime": {
     "end_time": "2023-11-16T14:59:05.190849Z",
     "start_time": "2023-11-16T14:59:05.167568Z"
    }
   },
   "outputs": [],
   "source": [
    "from enfobench.evaluation import AuthorInfo, ModelInfo, ForecasterType\n",
    "from enfobench.evaluation.utils import create_forecast_index\n",
    "\n",
    "class ExampleModel:\n",
    "    \n",
    "    def __init__(self, param1: int):\n",
    "        self.param1 = param1\n",
    "\n",
    "    def info(self):\n",
    "        return ModelInfo(\n",
    "            name=\"TestModel\",\n",
    "            authors=[\n",
    "                AuthorInfo(name=\"Attila Balint\")\n",
    "            ],\n",
    "            type=ForecasterType.point,\n",
    "            params={\n",
    "                \"param1\": 1,\n",
    "            },\n",
    "        )\n",
    "\n",
    "    def forecast(\n",
    "        self,\n",
    "        horizon: int,\n",
    "        history: pd.DataFrame,\n",
    "        past_covariates=None,\n",
    "        future_covariates=None,\n",
    "        level=None,\n",
    "        **kwargs,\n",
    "    ):\n",
    "        index = create_forecast_index(history, horizon)\n",
    "        return pd.DataFrame(\n",
    "            index=index,\n",
    "            data={\n",
    "                \"yhat\": np.full(horizon, fill_value=history[\"y\"].mean()) + self.param1,\n",
    "            }\n",
    "        )"
   ]
  },
  {
   "cell_type": "code",
   "execution_count": 11,
   "outputs": [],
   "source": [
    "model = ExampleModel(1)"
   ],
   "metadata": {
    "collapsed": false,
    "ExecuteTime": {
     "end_time": "2023-11-16T14:59:05.202266Z",
     "start_time": "2023-11-16T14:59:05.171438Z"
    }
   }
  },
  {
   "cell_type": "markdown",
   "metadata": {},
   "source": [
    "# Perform crossvalidation on your model locally"
   ]
  },
  {
   "cell_type": "code",
   "execution_count": 12,
   "metadata": {
    "ExecuteTime": {
     "end_time": "2023-11-16T14:59:05.335633Z",
     "start_time": "2023-11-16T14:59:05.176789Z"
    }
   },
   "outputs": [
    {
     "name": "stderr",
     "output_type": "stream",
     "text": [
      "100%|██████████| 30/30 [00:00<00:00, 249.37it/s]\n"
     ]
    }
   ],
   "source": [
    "from enfobench.evaluation import cross_validate\n",
    "\n",
    "crossval_df = cross_validate(\n",
    "    model, \n",
    "    univariate_dataset,\n",
    "    start_date=pd.Timestamp(\"2013-07-01T10:00:00\"),\n",
    "    end_date=pd.Timestamp(\"2013-08-01T00:00:00\"),\n",
    "    horizon=pd.Timedelta(\"38 hours\"), \n",
    "    step=pd.Timedelta(\"1 day\"), \n",
    ")"
   ]
  },
  {
   "cell_type": "code",
   "execution_count": 13,
   "metadata": {
    "ExecuteTime": {
     "end_time": "2023-11-16T14:59:05.348900Z",
     "start_time": "2023-11-16T14:59:05.337246Z"
    }
   },
   "outputs": [
    {
     "data": {
      "text/plain": "          cutoff_date           timestamp      yhat      y\n0 2013-07-01 10:00:00 2013-07-01 10:30:00  1.148641  0.050\n1 2013-07-01 10:00:00 2013-07-01 11:00:00  1.148641  0.072\n2 2013-07-01 10:00:00 2013-07-01 11:30:00  1.148641  0.125\n3 2013-07-01 10:00:00 2013-07-01 12:00:00  1.148641  0.081\n4 2013-07-01 10:00:00 2013-07-01 12:30:00  1.148641  0.177",
      "text/html": "<div>\n<style scoped>\n    .dataframe tbody tr th:only-of-type {\n        vertical-align: middle;\n    }\n\n    .dataframe tbody tr th {\n        vertical-align: top;\n    }\n\n    .dataframe thead th {\n        text-align: right;\n    }\n</style>\n<table border=\"1\" class=\"dataframe\">\n  <thead>\n    <tr style=\"text-align: right;\">\n      <th></th>\n      <th>cutoff_date</th>\n      <th>timestamp</th>\n      <th>yhat</th>\n      <th>y</th>\n    </tr>\n  </thead>\n  <tbody>\n    <tr>\n      <th>0</th>\n      <td>2013-07-01 10:00:00</td>\n      <td>2013-07-01 10:30:00</td>\n      <td>1.148641</td>\n      <td>0.050</td>\n    </tr>\n    <tr>\n      <th>1</th>\n      <td>2013-07-01 10:00:00</td>\n      <td>2013-07-01 11:00:00</td>\n      <td>1.148641</td>\n      <td>0.072</td>\n    </tr>\n    <tr>\n      <th>2</th>\n      <td>2013-07-01 10:00:00</td>\n      <td>2013-07-01 11:30:00</td>\n      <td>1.148641</td>\n      <td>0.125</td>\n    </tr>\n    <tr>\n      <th>3</th>\n      <td>2013-07-01 10:00:00</td>\n      <td>2013-07-01 12:00:00</td>\n      <td>1.148641</td>\n      <td>0.081</td>\n    </tr>\n    <tr>\n      <th>4</th>\n      <td>2013-07-01 10:00:00</td>\n      <td>2013-07-01 12:30:00</td>\n      <td>1.148641</td>\n      <td>0.177</td>\n    </tr>\n  </tbody>\n</table>\n</div>"
     },
     "execution_count": 13,
     "metadata": {},
     "output_type": "execute_result"
    }
   ],
   "source": [
    "crossval_df.head()"
   ]
  },
  {
   "cell_type": "markdown",
   "metadata": {},
   "source": [
    "# Evaluate metrics"
   ]
  },
  {
   "cell_type": "code",
   "execution_count": 14,
   "metadata": {
    "ExecuteTime": {
     "end_time": "2023-11-16T14:59:05.362214Z",
     "start_time": "2023-11-16T14:59:05.352850Z"
    }
   },
   "outputs": [],
   "source": [
    "from enfobench.evaluation import evaluate_metrics\n",
    "from enfobench.evaluation.metrics import mean_absolute_error, mean_bias_error"
   ]
  },
  {
   "cell_type": "code",
   "execution_count": 15,
   "metadata": {
    "ExecuteTime": {
     "end_time": "2023-11-16T14:59:05.477912Z",
     "start_time": "2023-11-16T14:59:05.358309Z"
    }
   },
   "outputs": [],
   "source": [
    "metrics = evaluate_metrics(\n",
    "    crossval_df,\n",
    "    metrics={\n",
    "        \"MAE\": mean_absolute_error,\n",
    "        \"MBE\": mean_bias_error\n",
    "    }\n",
    ")"
   ]
  },
  {
   "cell_type": "code",
   "execution_count": 16,
   "metadata": {
    "ExecuteTime": {
     "end_time": "2023-11-16T14:59:06.533329Z",
     "start_time": "2023-11-16T14:59:05.479850Z"
    }
   },
   "outputs": [
    {
     "data": {
      "text/plain": "<Axes: >"
     },
     "execution_count": 16,
     "metadata": {},
     "output_type": "execute_result"
    },
    {
     "data": {
      "text/plain": "<Figure size 640x480 with 1 Axes>",
      "image/png": "[encoded data removed]"
     },
     "metadata": {},
     "output_type": "display_data"
    }
   ],
   "source": [
    "metrics.plot()"
   ]
  },
  {
   "cell_type": "code",
   "execution_count": 16,
   "metadata": {
    "ExecuteTime": {
     "end_time": "2023-11-16T14:59:06.545700Z",
     "start_time": "2023-11-16T14:59:06.534008Z"
    }
   },
   "outputs": [],
   "source": []
  }
 ],
 "metadata": {
  "kernelspec": {
   "display_name": "Python 3 (ipykernel)",
   "language": "python",
   "name": "python3"
  },
  "language_info": {
   "codemirror_mode": {
    "name": "ipython",
    "version": 3
   },
   "file_extension": ".py",
   "mimetype": "text/x-python",
   "name": "python",
   "nbconvert_exporter": "python",
   "pygments_lexer": "ipython3",
   "version": "3.10.9"
  }
 },
 "nbformat": 4,
 "nbformat_minor": 4
}
